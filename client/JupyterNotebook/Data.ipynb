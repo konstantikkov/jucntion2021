{
 "cells": [
  {
   "cell_type": "code",
   "execution_count": 268,
   "metadata": {},
   "outputs": [],
   "source": [
    "import pandas as pd"
   ]
  },
  {
   "cell_type": "code",
   "execution_count": 269,
   "metadata": {},
   "outputs": [],
   "source": [
    "data_materials = pd.read_excel(\"/Users/arseniikhmara/Documents/Junction 2021/SIEVO JUNCTION Emissions per UOM.xlsx\" , index_col = \"Product\")"
   ]
  },
  {
   "cell_type": "code",
   "execution_count": 376,
   "metadata": {
    "scrolled": true
   },
   "outputs": [
    {
     "name": "stdout",
     "output_type": "stream",
     "text": [
      "oil power plant, 500MW\n",
      "vegetable oil refinery\n",
      "infrastructure, for regional distribution of oil product\n",
      "oil mill\n",
      "vegetable oil esterification facility\n",
      "nuclear fuel element, for boiling water reactor, UO2 4.0% & MOX\n",
      "onshore well, oil/gas\n",
      "oil boiler, 100kW\n",
      "oil boiler, 10kW\n",
      "vegetable oil, refined\n",
      "palm oil, crude\n",
      "bilge oil\n",
      "ethylvinylacetate, foil\n",
      "cottonseed oil, refined\n",
      "waste textile, soiled\n",
      "light fuel oil\n",
      "heavy fuel oil\n",
      "condensate from light oil boiler\n",
      "soil pH raising agent, as CaCO3\n",
      "heavy fuel oil, burned in refinery furnace\n",
      "spoil from lignite mining\n"
     ]
    }
   ],
   "source": [
    "for i in data_materials.sort_values(\"CO2-eq kg\",ascending = False)[\"Product\"]:\n",
    "    if \"oil\" in i:\n",
    "        print(i)"
   ]
  },
  {
   "cell_type": "code",
   "execution_count": 385,
   "metadata": {},
   "outputs": [
    {
     "data": {
      "text/html": [
       "<div>\n",
       "<style scoped>\n",
       "    .dataframe tbody tr th:only-of-type {\n",
       "        vertical-align: middle;\n",
       "    }\n",
       "\n",
       "    .dataframe tbody tr th {\n",
       "        vertical-align: top;\n",
       "    }\n",
       "\n",
       "    .dataframe thead th {\n",
       "        text-align: right;\n",
       "    }\n",
       "</style>\n",
       "<table border=\"1\" class=\"dataframe\">\n",
       "  <thead>\n",
       "    <tr style=\"text-align: right;\">\n",
       "      <th></th>\n",
       "      <th>Product</th>\n",
       "      <th>UOM</th>\n",
       "      <th>CO2-eq kg</th>\n",
       "    </tr>\n",
       "  </thead>\n",
       "  <tbody>\n",
       "    <tr>\n",
       "      <td>1125</td>\n",
       "      <td>textile, knit cotton</td>\n",
       "      <td>kg</td>\n",
       "      <td>26.298346</td>\n",
       "    </tr>\n",
       "  </tbody>\n",
       "</table>\n",
       "</div>"
      ],
      "text/plain": [
       "                   Product UOM  CO2-eq kg\n",
       "1125  textile, knit cotton  kg  26.298346"
      ]
     },
     "execution_count": 385,
     "metadata": {},
     "output_type": "execute_result"
    }
   ],
   "source": [
    "data_materials[data_materials[\"Product\"] == \"textile, knit cotton\"]"
   ]
  },
  {
   "cell_type": "code",
   "execution_count": 271,
   "metadata": {},
   "outputs": [],
   "source": [
    "data_materials = data_materials.reset_index()"
   ]
  },
  {
   "cell_type": "code",
   "execution_count": 221,
   "metadata": {},
   "outputs": [
    {
     "data": {
      "text/html": [
       "<div>\n",
       "<style scoped>\n",
       "    .dataframe tbody tr th:only-of-type {\n",
       "        vertical-align: middle;\n",
       "    }\n",
       "\n",
       "    .dataframe tbody tr th {\n",
       "        vertical-align: top;\n",
       "    }\n",
       "\n",
       "    .dataframe thead th {\n",
       "        text-align: right;\n",
       "    }\n",
       "</style>\n",
       "<table border=\"1\" class=\"dataframe\">\n",
       "  <thead>\n",
       "    <tr style=\"text-align: right;\">\n",
       "      <th></th>\n",
       "      <th>Product</th>\n",
       "      <th>UOM</th>\n",
       "      <th>CO2-eq kg</th>\n",
       "    </tr>\n",
       "  </thead>\n",
       "  <tbody>\n",
       "    <tr>\n",
       "      <td>864</td>\n",
       "      <td>port facilities</td>\n",
       "      <td>unit</td>\n",
       "      <td>1.753707e+11</td>\n",
       "    </tr>\n",
       "    <tr>\n",
       "      <td>32</td>\n",
       "      <td>airport</td>\n",
       "      <td>unit</td>\n",
       "      <td>1.708801e+10</td>\n",
       "    </tr>\n",
       "    <tr>\n",
       "      <td>508</td>\n",
       "      <td>hydropower plant, reservoir, non-alpine regions</td>\n",
       "      <td>unit</td>\n",
       "      <td>1.182037e+10</td>\n",
       "    </tr>\n",
       "    <tr>\n",
       "      <td>1003</td>\n",
       "      <td>silicone factory</td>\n",
       "      <td>unit</td>\n",
       "      <td>1.376580e+09</td>\n",
       "    </tr>\n",
       "    <tr>\n",
       "      <td>455</td>\n",
       "      <td>hard coal coke factory</td>\n",
       "      <td>unit</td>\n",
       "      <td>5.353704e+08</td>\n",
       "    </tr>\n",
       "    <tr>\n",
       "      <td>944</td>\n",
       "      <td>road vehicle factory</td>\n",
       "      <td>unit</td>\n",
       "      <td>2.961786e+08</td>\n",
       "    </tr>\n",
       "    <tr>\n",
       "      <td>1228</td>\n",
       "      <td>uranium conversion facility</td>\n",
       "      <td>unit</td>\n",
       "      <td>2.323484e+08</td>\n",
       "    </tr>\n",
       "    <tr>\n",
       "      <td>671</td>\n",
       "      <td>mine infrastructure, open cast, hard coal</td>\n",
       "      <td>unit</td>\n",
       "      <td>2.205913e+08</td>\n",
       "    </tr>\n",
       "    <tr>\n",
       "      <td>722</td>\n",
       "      <td>nuclear waste storage, final repository for lo...</td>\n",
       "      <td>unit</td>\n",
       "      <td>2.004028e+08</td>\n",
       "    </tr>\n",
       "    <tr>\n",
       "      <td>675</td>\n",
       "      <td>mine infrastructure, phosphate rock</td>\n",
       "      <td>unit</td>\n",
       "      <td>1.998867e+08</td>\n",
       "    </tr>\n",
       "    <tr>\n",
       "      <td>1128</td>\n",
       "      <td>thermal storage system, solar thermal paraboli...</td>\n",
       "      <td>unit</td>\n",
       "      <td>1.871217e+08</td>\n",
       "    </tr>\n",
       "    <tr>\n",
       "      <td>584</td>\n",
       "      <td>lignite power plant</td>\n",
       "      <td>unit</td>\n",
       "      <td>1.800651e+08</td>\n",
       "    </tr>\n",
       "    <tr>\n",
       "      <td>734</td>\n",
       "      <td>oil power plant, 500MW</td>\n",
       "      <td>unit</td>\n",
       "      <td>1.561042e+08</td>\n",
       "    </tr>\n",
       "    <tr>\n",
       "      <td>1229</td>\n",
       "      <td>uranium mill</td>\n",
       "      <td>unit</td>\n",
       "      <td>1.455779e+08</td>\n",
       "    </tr>\n",
       "    <tr>\n",
       "      <td>416</td>\n",
       "      <td>geothermal power plant, 5.5MWel</td>\n",
       "      <td>unit</td>\n",
       "      <td>1.391246e+08</td>\n",
       "    </tr>\n",
       "    <tr>\n",
       "      <td>100</td>\n",
       "      <td>bentonite quarry infrastructure</td>\n",
       "      <td>unit</td>\n",
       "      <td>1.213783e+08</td>\n",
       "    </tr>\n",
       "    <tr>\n",
       "      <td>456</td>\n",
       "      <td>hard coal power plant</td>\n",
       "      <td>unit</td>\n",
       "      <td>1.193993e+08</td>\n",
       "    </tr>\n",
       "    <tr>\n",
       "      <td>673</td>\n",
       "      <td>mine infrastructure, open cast, non-ferrous metal</td>\n",
       "      <td>unit</td>\n",
       "      <td>9.876535e+07</td>\n",
       "    </tr>\n",
       "    <tr>\n",
       "      <td>1087</td>\n",
       "      <td>stone wool factory</td>\n",
       "      <td>unit</td>\n",
       "      <td>8.874577e+07</td>\n",
       "    </tr>\n",
       "    <tr>\n",
       "      <td>672</td>\n",
       "      <td>mine infrastructure, open cast, lignite</td>\n",
       "      <td>unit</td>\n",
       "      <td>7.216133e+07</td>\n",
       "    </tr>\n",
       "    <tr>\n",
       "      <td>229</td>\n",
       "      <td>collector field area, solar thermal parabolic ...</td>\n",
       "      <td>unit</td>\n",
       "      <td>7.214415e+07</td>\n",
       "    </tr>\n",
       "    <tr>\n",
       "      <td>1413</td>\n",
       "      <td>wooden board factory, organic bonded boards</td>\n",
       "      <td>unit</td>\n",
       "      <td>6.991724e+07</td>\n",
       "    </tr>\n",
       "    <tr>\n",
       "      <td>112</td>\n",
       "      <td>blast furnace</td>\n",
       "      <td>unit</td>\n",
       "      <td>6.810994e+07</td>\n",
       "    </tr>\n",
       "    <tr>\n",
       "      <td>676</td>\n",
       "      <td>mine infrastructure, underground, non-ferrous ...</td>\n",
       "      <td>unit</td>\n",
       "      <td>6.422169e+07</td>\n",
       "    </tr>\n",
       "    <tr>\n",
       "      <td>1116</td>\n",
       "      <td>tanker, transoceanic</td>\n",
       "      <td>unit</td>\n",
       "      <td>5.083508e+07</td>\n",
       "    </tr>\n",
       "    <tr>\n",
       "      <td>238</td>\n",
       "      <td>concentrated solar power plant, solar tower, 2...</td>\n",
       "      <td>unit</td>\n",
       "      <td>4.842694e+07</td>\n",
       "    </tr>\n",
       "    <tr>\n",
       "      <td>1360</td>\n",
       "      <td>wastewater treatment facility, capacity 1.1E10...</td>\n",
       "      <td>unit</td>\n",
       "      <td>4.604747e+07</td>\n",
       "    </tr>\n",
       "    <tr>\n",
       "      <td>658</td>\n",
       "      <td>methanol factory</td>\n",
       "      <td>unit</td>\n",
       "      <td>3.531640e+07</td>\n",
       "    </tr>\n",
       "    <tr>\n",
       "      <td>721</td>\n",
       "      <td>nuclear spent fuel conditioning facility</td>\n",
       "      <td>unit</td>\n",
       "      <td>3.446063e+07</td>\n",
       "    </tr>\n",
       "    <tr>\n",
       "      <td>583</td>\n",
       "      <td>lignite dust factory</td>\n",
       "      <td>unit</td>\n",
       "      <td>3.427757e+07</td>\n",
       "    </tr>\n",
       "    <tr>\n",
       "      <td>387</td>\n",
       "      <td>foam glass factory</td>\n",
       "      <td>unit</td>\n",
       "      <td>2.944656e+07</td>\n",
       "    </tr>\n",
       "    <tr>\n",
       "      <td>582</td>\n",
       "      <td>lignite briquettes factory</td>\n",
       "      <td>unit</td>\n",
       "      <td>2.562778e+07</td>\n",
       "    </tr>\n",
       "    <tr>\n",
       "      <td>45</td>\n",
       "      <td>aluminium hydroxide factory</td>\n",
       "      <td>unit</td>\n",
       "      <td>2.479545e+07</td>\n",
       "    </tr>\n",
       "    <tr>\n",
       "      <td>1070</td>\n",
       "      <td>sputtering, indium tin oxide, for liquid cryst...</td>\n",
       "      <td>m3</td>\n",
       "      <td>2.277103e+07</td>\n",
       "    </tr>\n",
       "    <tr>\n",
       "      <td>68</td>\n",
       "      <td>anode refinery</td>\n",
       "      <td>unit</td>\n",
       "      <td>2.239802e+07</td>\n",
       "    </tr>\n",
       "    <tr>\n",
       "      <td>44</td>\n",
       "      <td>aluminium electrolysis facility</td>\n",
       "      <td>unit</td>\n",
       "      <td>2.175172e+07</td>\n",
       "    </tr>\n",
       "    <tr>\n",
       "      <td>230</td>\n",
       "      <td>collector field area, solar tower power plant,...</td>\n",
       "      <td>unit</td>\n",
       "      <td>2.175105e+07</td>\n",
       "    </tr>\n",
       "    <tr>\n",
       "      <td>1367</td>\n",
       "      <td>water works, capacity 6.23E10l/year</td>\n",
       "      <td>unit</td>\n",
       "      <td>2.072227e+07</td>\n",
       "    </tr>\n",
       "    <tr>\n",
       "      <td>670</td>\n",
       "      <td>mine infrastructure, iron</td>\n",
       "      <td>unit</td>\n",
       "      <td>1.852066e+07</td>\n",
       "    </tr>\n",
       "    <tr>\n",
       "      <td>414</td>\n",
       "      <td>gas power plant, 300MW electrical</td>\n",
       "      <td>unit</td>\n",
       "      <td>1.828691e+07</td>\n",
       "    </tr>\n",
       "    <tr>\n",
       "      <td>192</td>\n",
       "      <td>ceramic factory</td>\n",
       "      <td>unit</td>\n",
       "      <td>1.525665e+07</td>\n",
       "    </tr>\n",
       "    <tr>\n",
       "      <td>692</td>\n",
       "      <td>municipal waste incineration facility</td>\n",
       "      <td>unit</td>\n",
       "      <td>1.513451e+07</td>\n",
       "    </tr>\n",
       "    <tr>\n",
       "      <td>1129</td>\n",
       "      <td>thermal storage system, solar tower power plan...</td>\n",
       "      <td>unit</td>\n",
       "      <td>1.477330e+07</td>\n",
       "    </tr>\n",
       "    <tr>\n",
       "      <td>876</td>\n",
       "      <td>power block, solar tower power plant, 20 MW</td>\n",
       "      <td>unit</td>\n",
       "      <td>1.434792e+07</td>\n",
       "    </tr>\n",
       "    <tr>\n",
       "      <td>396</td>\n",
       "      <td>freight ship, transoceanic</td>\n",
       "      <td>unit</td>\n",
       "      <td>1.384533e+07</td>\n",
       "    </tr>\n",
       "    <tr>\n",
       "      <td>730</td>\n",
       "      <td>offshore platform, petroleum</td>\n",
       "      <td>unit</td>\n",
       "      <td>1.338106e+07</td>\n",
       "    </tr>\n",
       "    <tr>\n",
       "      <td>67</td>\n",
       "      <td>anode factory</td>\n",
       "      <td>unit</td>\n",
       "      <td>1.306434e+07</td>\n",
       "    </tr>\n",
       "    <tr>\n",
       "      <td>43</td>\n",
       "      <td>aluminium casting facility</td>\n",
       "      <td>unit</td>\n",
       "      <td>1.193422e+07</td>\n",
       "    </tr>\n",
       "    <tr>\n",
       "      <td>1099</td>\n",
       "      <td>sugar refinery</td>\n",
       "      <td>unit</td>\n",
       "      <td>1.041739e+07</td>\n",
       "    </tr>\n",
       "    <tr>\n",
       "      <td>1282</td>\n",
       "      <td>vegetable oil refinery</td>\n",
       "      <td>unit</td>\n",
       "      <td>8.900598e+06</td>\n",
       "    </tr>\n",
       "  </tbody>\n",
       "</table>\n",
       "</div>"
      ],
      "text/plain": [
       "                                                Product   UOM     CO2-eq kg\n",
       "864                                     port facilities  unit  1.753707e+11\n",
       "32                                              airport  unit  1.708801e+10\n",
       "508     hydropower plant, reservoir, non-alpine regions  unit  1.182037e+10\n",
       "1003                                   silicone factory  unit  1.376580e+09\n",
       "455                              hard coal coke factory  unit  5.353704e+08\n",
       "944                                road vehicle factory  unit  2.961786e+08\n",
       "1228                        uranium conversion facility  unit  2.323484e+08\n",
       "671           mine infrastructure, open cast, hard coal  unit  2.205913e+08\n",
       "722   nuclear waste storage, final repository for lo...  unit  2.004028e+08\n",
       "675                 mine infrastructure, phosphate rock  unit  1.998867e+08\n",
       "1128  thermal storage system, solar thermal paraboli...  unit  1.871217e+08\n",
       "584                                 lignite power plant  unit  1.800651e+08\n",
       "734                              oil power plant, 500MW  unit  1.561042e+08\n",
       "1229                                       uranium mill  unit  1.455779e+08\n",
       "416                     geothermal power plant, 5.5MWel  unit  1.391246e+08\n",
       "100                     bentonite quarry infrastructure  unit  1.213783e+08\n",
       "456                               hard coal power plant  unit  1.193993e+08\n",
       "673   mine infrastructure, open cast, non-ferrous metal  unit  9.876535e+07\n",
       "1087                                 stone wool factory  unit  8.874577e+07\n",
       "672             mine infrastructure, open cast, lignite  unit  7.216133e+07\n",
       "229   collector field area, solar thermal parabolic ...  unit  7.214415e+07\n",
       "1413        wooden board factory, organic bonded boards  unit  6.991724e+07\n",
       "112                                       blast furnace  unit  6.810994e+07\n",
       "676   mine infrastructure, underground, non-ferrous ...  unit  6.422169e+07\n",
       "1116                               tanker, transoceanic  unit  5.083508e+07\n",
       "238   concentrated solar power plant, solar tower, 2...  unit  4.842694e+07\n",
       "1360  wastewater treatment facility, capacity 1.1E10...  unit  4.604747e+07\n",
       "658                                    methanol factory  unit  3.531640e+07\n",
       "721            nuclear spent fuel conditioning facility  unit  3.446063e+07\n",
       "583                                lignite dust factory  unit  3.427757e+07\n",
       "387                                  foam glass factory  unit  2.944656e+07\n",
       "582                          lignite briquettes factory  unit  2.562778e+07\n",
       "45                          aluminium hydroxide factory  unit  2.479545e+07\n",
       "1070  sputtering, indium tin oxide, for liquid cryst...    m3  2.277103e+07\n",
       "68                                       anode refinery  unit  2.239802e+07\n",
       "44                      aluminium electrolysis facility  unit  2.175172e+07\n",
       "230   collector field area, solar tower power plant,...  unit  2.175105e+07\n",
       "1367                water works, capacity 6.23E10l/year  unit  2.072227e+07\n",
       "670                           mine infrastructure, iron  unit  1.852066e+07\n",
       "414                   gas power plant, 300MW electrical  unit  1.828691e+07\n",
       "192                                     ceramic factory  unit  1.525665e+07\n",
       "692               municipal waste incineration facility  unit  1.513451e+07\n",
       "1129  thermal storage system, solar tower power plan...  unit  1.477330e+07\n",
       "876         power block, solar tower power plant, 20 MW  unit  1.434792e+07\n",
       "396                          freight ship, transoceanic  unit  1.384533e+07\n",
       "730                        offshore platform, petroleum  unit  1.338106e+07\n",
       "67                                        anode factory  unit  1.306434e+07\n",
       "43                           aluminium casting facility  unit  1.193422e+07\n",
       "1099                                     sugar refinery  unit  1.041739e+07\n",
       "1282                             vegetable oil refinery  unit  8.900598e+06"
      ]
     },
     "execution_count": 221,
     "metadata": {},
     "output_type": "execute_result"
    }
   ],
   "source": [
    "data_materials.sort_values(\"CO2-eq kg\",ascending = False).head(50)"
   ]
  },
  {
   "cell_type": "code",
   "execution_count": 250,
   "metadata": {},
   "outputs": [],
   "source": [
    "data_fields = pd.read_excel(\"/Users/arseniikhmara/Documents/Junction 2021/SIEVO JUNCTION Emissions per EUR.xlsx\",index_col = \"ActivityId\")"
   ]
  },
  {
   "cell_type": "code",
   "execution_count": 18,
   "metadata": {},
   "outputs": [
    {
     "data": {
      "text/html": [
       "<div>\n",
       "<style scoped>\n",
       "    .dataframe tbody tr th:only-of-type {\n",
       "        vertical-align: middle;\n",
       "    }\n",
       "\n",
       "    .dataframe tbody tr th {\n",
       "        vertical-align: top;\n",
       "    }\n",
       "\n",
       "    .dataframe thead th {\n",
       "        text-align: right;\n",
       "    }\n",
       "</style>\n",
       "<table border=\"1\" class=\"dataframe\">\n",
       "  <thead>\n",
       "    <tr style=\"text-align: right;\">\n",
       "      <th></th>\n",
       "      <th>Process</th>\n",
       "      <th>Ref. Unit</th>\n",
       "      <th>CO2eq_kg</th>\n",
       "    </tr>\n",
       "    <tr>\n",
       "      <th>ActivityId</th>\n",
       "      <th></th>\n",
       "      <th></th>\n",
       "      <th></th>\n",
       "    </tr>\n",
       "  </thead>\n",
       "  <tbody>\n",
       "    <tr>\n",
       "      <td>1</td>\n",
       "      <td>Additives/Blending Components</td>\n",
       "      <td>EUR</td>\n",
       "      <td>0.657714</td>\n",
       "    </tr>\n",
       "    <tr>\n",
       "      <td>2</td>\n",
       "      <td>Air transport services</td>\n",
       "      <td>EUR</td>\n",
       "      <td>1.515616</td>\n",
       "    </tr>\n",
       "    <tr>\n",
       "      <td>3</td>\n",
       "      <td>Aluminium and aluminium products</td>\n",
       "      <td>EUR</td>\n",
       "      <td>0.928844</td>\n",
       "    </tr>\n",
       "    <tr>\n",
       "      <td>4</td>\n",
       "      <td>Animal products nec</td>\n",
       "      <td>EUR</td>\n",
       "      <td>0.756290</td>\n",
       "    </tr>\n",
       "    <tr>\n",
       "      <td>5</td>\n",
       "      <td>average of all flows</td>\n",
       "      <td>EUR</td>\n",
       "      <td>8.293650</td>\n",
       "    </tr>\n",
       "    <tr>\n",
       "      <td>...</td>\n",
       "      <td>...</td>\n",
       "      <td>...</td>\n",
       "      <td>...</td>\n",
       "    </tr>\n",
       "    <tr>\n",
       "      <td>73</td>\n",
       "      <td>Textiles</td>\n",
       "      <td>EUR</td>\n",
       "      <td>0.426775</td>\n",
       "    </tr>\n",
       "    <tr>\n",
       "      <td>74</td>\n",
       "      <td>Transportation services via pipelines</td>\n",
       "      <td>EUR</td>\n",
       "      <td>2.661124</td>\n",
       "    </tr>\n",
       "    <tr>\n",
       "      <td>75</td>\n",
       "      <td>Vegetables, fruit, nuts</td>\n",
       "      <td>EUR</td>\n",
       "      <td>0.322467</td>\n",
       "    </tr>\n",
       "    <tr>\n",
       "      <td>76</td>\n",
       "      <td>Wholesale trade and commission trade services,...</td>\n",
       "      <td>EUR</td>\n",
       "      <td>0.348798</td>\n",
       "    </tr>\n",
       "    <tr>\n",
       "      <td>77</td>\n",
       "      <td>Wood and products of wood and cork</td>\n",
       "      <td>EUR</td>\n",
       "      <td>0.553206</td>\n",
       "    </tr>\n",
       "  </tbody>\n",
       "</table>\n",
       "<p>77 rows × 3 columns</p>\n",
       "</div>"
      ],
      "text/plain": [
       "                                                      Process Ref. Unit  \\\n",
       "ActivityId                                                                \n",
       "1                               Additives/Blending Components       EUR   \n",
       "2                                      Air transport services       EUR   \n",
       "3                            Aluminium and aluminium products       EUR   \n",
       "4                                         Animal products nec       EUR   \n",
       "5                                        average of all flows       EUR   \n",
       "...                                                       ...       ...   \n",
       "73                                                   Textiles       EUR   \n",
       "74                      Transportation services via pipelines       EUR   \n",
       "75                                    Vegetables, fruit, nuts       EUR   \n",
       "76          Wholesale trade and commission trade services,...       EUR   \n",
       "77                         Wood and products of wood and cork       EUR   \n",
       "\n",
       "            CO2eq_kg  \n",
       "ActivityId            \n",
       "1           0.657714  \n",
       "2           1.515616  \n",
       "3           0.928844  \n",
       "4           0.756290  \n",
       "5           8.293650  \n",
       "...              ...  \n",
       "73          0.426775  \n",
       "74          2.661124  \n",
       "75          0.322467  \n",
       "76          0.348798  \n",
       "77          0.553206  \n",
       "\n",
       "[77 rows x 3 columns]"
      ]
     },
     "execution_count": 18,
     "metadata": {},
     "output_type": "execute_result"
    }
   ],
   "source": [
    "data_fields[\"\"]"
   ]
  },
  {
   "cell_type": "code",
   "execution_count": 251,
   "metadata": {},
   "outputs": [],
   "source": [
    "data_countries = pd.read_excel(\"/Users/arseniikhmara/Documents/Junction 2021/SIEVO JUNCTION Spend data.xlsx\")"
   ]
  },
  {
   "cell_type": "code",
   "execution_count": 21,
   "metadata": {},
   "outputs": [
    {
     "data": {
      "text/plain": [
       "AT    8788\n",
       "NL    3809\n",
       "DE     345\n",
       "FI     295\n",
       "GB     115\n",
       "PL     103\n",
       "SK     100\n",
       "GR      79\n",
       "IT      63\n",
       "UA      62\n",
       "BE      44\n",
       "CN       5\n",
       "Name: VendorCountry, dtype: int64"
      ]
     },
     "execution_count": 21,
     "metadata": {},
     "output_type": "execute_result"
    }
   ],
   "source": [
    "data_countries[\"VendorCountry\"].value_counts()"
   ]
  },
  {
   "cell_type": "code",
   "execution_count": 35,
   "metadata": {},
   "outputs": [
    {
     "data": {
      "text/plain": [
       "Fleet                        5987\n",
       "Marketing & Communication    1079\n",
       "Label adhesive                849\n",
       "Plastic                       804\n",
       "Fruit, Berry & Vegetable      797\n",
       "Facility Management           759\n",
       "Paper & Carton                610\n",
       "Undefined/Undefined           557\n",
       "Flour & Grain                 514\n",
       "Utilities                     395\n",
       "Meat                          319\n",
       "Barrels                       286\n",
       "Glass                         258\n",
       "MRO                           201\n",
       "Metal                         102\n",
       "Sweeteners                    100\n",
       "Dairy & Egg                    73\n",
       "Kegs                           42\n",
       "Fats & Oils                    35\n",
       "Professional Services          35\n",
       "Seasoning & Additives           6\n",
       "Name: CategoryL2, dtype: int64"
      ]
     },
     "execution_count": 35,
     "metadata": {},
     "output_type": "execute_result"
    }
   ],
   "source": [
    "data_countries[\"CategoryL2\"].value_counts()"
   ]
  },
  {
   "cell_type": "code",
   "execution_count": 38,
   "metadata": {},
   "outputs": [
    {
     "data": {
      "text/plain": [
       "LeasePlan Corporation N.V.               3809\n",
       "GETRA Logistics Austria GmbH & Co. KG     799\n",
       "SCHENKER & CO AG                          434\n",
       "Dachser - Austria GmbH.                   380\n",
       "WVT Fass GmbH.                            377\n",
       "MEIDL Spedition GmbH                      188\n",
       "Name: VendorName, dtype: int64"
      ]
     },
     "execution_count": 38,
     "metadata": {},
     "output_type": "execute_result"
    }
   ],
   "source": [
    "data_countries[data_countries[\"CategoryL2\"] == \"Fleet\"][\"VendorName\"].value_counts()"
   ]
  },
  {
   "cell_type": "code",
   "execution_count": 40,
   "metadata": {},
   "outputs": [
    {
     "data": {
      "text/plain": [
       "StepChange Consulting GmbH              443\n",
       "BBO Creative                            295\n",
       "WPP Marketing Communications Germany    180\n",
       "REWE Group Verlag GmbH                   90\n",
       "Radio Max GmbH                           36\n",
       "BILLA AG                                 25\n",
       "ZIMMERMANN Druck KG                      10\n",
       "Name: VendorName, dtype: int64"
      ]
     },
     "execution_count": 40,
     "metadata": {},
     "output_type": "execute_result"
    }
   ],
   "source": [
    "data_countries[data_countries[\"CategoryL2\"] == \"Marketing & Communication\"][\"VendorName\"].value_counts()"
   ]
  },
  {
   "cell_type": "code",
   "execution_count": 55,
   "metadata": {},
   "outputs": [
    {
     "data": {
      "text/plain": [
       "AT    849\n",
       "Name: VendorCountry, dtype: int64"
      ]
     },
     "execution_count": 55,
     "metadata": {},
     "output_type": "execute_result"
    }
   ],
   "source": [
    "data_countries[data_countries[\"CategoryL2\"] == \"Label adhesive\"][\"VendorName\"].value_counts()"
   ]
  },
  {
   "cell_type": "code",
   "execution_count": 43,
   "metadata": {},
   "outputs": [
    {
     "data": {
      "text/plain": [
       "GIG Karasek GmbH           192\n",
       "Austrian Power Grid AG      98\n",
       "TIGAS Erdgas Tirol GmbH     93\n",
       "Netz Burgenland GmbH        12\n",
       "Name: VendorName, dtype: int64"
      ]
     },
     "execution_count": 43,
     "metadata": {},
     "output_type": "execute_result"
    }
   ],
   "source": [
    "data_countries[data_countries[\"CategoryL2\"] == \"Utilities\"][\"VendorName\"].value_counts()"
   ]
  },
  {
   "cell_type": "code",
   "execution_count": 150,
   "metadata": {},
   "outputs": [],
   "source": [
    "utilities = {\"GIG Karasek GmbH\":\"Machinery and equipment n.e.c.\",\"TIGAS Erdgas Tirol GmbH\":\"Distribution services of gaseous fuels through mains\",\"Netz Burgenland GmbH\":'Electricity nec'}"
   ]
  },
  {
   "cell_type": "code",
   "execution_count": null,
   "metadata": {},
   "outputs": [],
   "source": [
    "#Delete ones that contain utilities/austria power grid\n",
    "#MRO delete\n",
    "#"
   ]
  },
  {
   "cell_type": "code",
   "execution_count": 68,
   "metadata": {},
   "outputs": [
    {
     "data": {
      "text/html": [
       "<div>\n",
       "<style scoped>\n",
       "    .dataframe tbody tr th:only-of-type {\n",
       "        vertical-align: middle;\n",
       "    }\n",
       "\n",
       "    .dataframe tbody tr th {\n",
       "        vertical-align: top;\n",
       "    }\n",
       "\n",
       "    .dataframe thead th {\n",
       "        text-align: right;\n",
       "    }\n",
       "</style>\n",
       "<table border=\"1\" class=\"dataframe\">\n",
       "  <thead>\n",
       "    <tr style=\"text-align: right;\">\n",
       "      <th></th>\n",
       "      <th>Process</th>\n",
       "      <th>Ref. Unit</th>\n",
       "      <th>CO2eq_kg</th>\n",
       "    </tr>\n",
       "    <tr>\n",
       "      <th>ActivityId</th>\n",
       "      <th></th>\n",
       "      <th></th>\n",
       "      <th></th>\n",
       "    </tr>\n",
       "  </thead>\n",
       "  <tbody>\n",
       "  </tbody>\n",
       "</table>\n",
       "</div>"
      ],
      "text/plain": [
       "Empty DataFrame\n",
       "Columns: [Process, Ref. Unit, CO2eq_kg]\n",
       "Index: []"
      ]
     },
     "execution_count": 68,
     "metadata": {},
     "output_type": "execute_result"
    }
   ],
   "source": [
    "data_fields[data_fields[\"Ref. Unit\"] != \"EUR\"]"
   ]
  },
  {
   "cell_type": "code",
   "execution_count": 48,
   "metadata": {},
   "outputs": [
    {
     "data": {
      "text/plain": [
       "44015    149\n",
       "44321    118\n",
       "43861    116\n",
       "44047    106\n",
       "44106     90\n",
       "        ... \n",
       "44031      4\n",
       "43847      4\n",
       "43955      4\n",
       "44030      4\n",
       "44045      2\n",
       "Name: Date, Length: 577, dtype: int64"
      ]
     },
     "execution_count": 48,
     "metadata": {},
     "output_type": "execute_result"
    }
   ],
   "source": [
    "data_countries[\"Date\"].value_counts()"
   ]
  },
  {
   "cell_type": "code",
   "execution_count": 51,
   "metadata": {},
   "outputs": [
    {
     "data": {
      "text/plain": [
       "array(['Additives/Blending Components', 'Air transport services',\n",
       "       'Aluminium and aluminium products', 'Animal products nec',\n",
       "       'average of all flows', 'average of all flows in exiobase',\n",
       "       'Basic iron and steel and of ferro-alloys and first products thereof',\n",
       "       'Beverages', 'Ceramic goods', 'Cereal grains nec', 'Charcoal',\n",
       "       'Chemicals nec',\n",
       "       'Collected and purified water, distribution services of water',\n",
       "       'Computer and related services', 'Construction work',\n",
       "       'Copper products', 'Crops nec', 'Dairy products',\n",
       "       'Distribution services of gaseous fuels through mains',\n",
       "       'Education services', 'Electrical machinery and apparatus n.e.c. ',\n",
       "       'Electricity nec',\n",
       "       'Fabricated metal products, except machinery and equipment',\n",
       "       'Financial intermediation services, except insurance and pension funding services',\n",
       "       'Fish products', 'Food products nec',\n",
       "       'Furniture; other manufactured goods n.e.c.', 'Gas/Diesel Oil',\n",
       "       'Glass and glass products', 'Health and social work services',\n",
       "       'Hotel and restaurant services',\n",
       "       'Inland water transportation services',\n",
       "       'Insurance and pension funding services, except compulsory social security services',\n",
       "       'Lead, zinc and tin and products thereof', 'Lubricants',\n",
       "       'Machinery and equipment n.e.c.', 'Meat animals nec',\n",
       "       'Meat products nec',\n",
       "       'Medical, precision and optical instruments, watches and clocks',\n",
       "       'Membership organisation services n.e.c.', 'Motor Gasoline',\n",
       "       'Natural gas and services related to natural gas extraction, excluding surveying',\n",
       "       'Natural Gas Liquids', 'Non-specified Petroleum Products',\n",
       "       'Office machinery and computers', 'Oil seeds',\n",
       "       'Other business services', 'Other land transportation services',\n",
       "       'Other non-ferrous metal products', 'Other services',\n",
       "       'Paper and paper products', 'Plant-based fibers',\n",
       "       'Plastics, basic', 'Post and telecommunication services',\n",
       "       'Precious metals', 'Printed matter and recorded media',\n",
       "       'Products of meat cattle', 'products of Vegetable oils and fats',\n",
       "       'Public administration and defence services; compulsory social security services',\n",
       "       'Radio, television and communication equipment and apparatus',\n",
       "       'Real estate services',\n",
       "       'Recreational, cultural and sporting services',\n",
       "       'Renting services of machinery and equipment without operator and of personal and household goods',\n",
       "       'Research and development services', 'Rubber and plastic products',\n",
       "       'Sale, maintenance, repair of motor vehicles, motor vehicles parts, motorcycles, motor cycles parts and accessoiries',\n",
       "       'Sea and coastal water transportation services',\n",
       "       'Secondary raw materials',\n",
       "       'Services auxiliary to financial intermediation',\n",
       "       'Steam and hot water supply services', 'Sugar',\n",
       "       'Supporting and auxiliary transport services; travel agency services',\n",
       "       'Textiles', 'Transportation services via pipelines',\n",
       "       'Vegetables, fruit, nuts',\n",
       "       'Wholesale trade and commission trade services, except of motor vehicles and motorcycles',\n",
       "       'Wood and products of wood and cork'], dtype=object)"
      ]
     },
     "execution_count": 51,
     "metadata": {},
     "output_type": "execute_result"
    }
   ],
   "source": [
    "data_fields[\"Process\"].unique()"
   ]
  },
  {
   "cell_type": "code",
   "execution_count": 325,
   "metadata": {},
   "outputs": [],
   "source": [
    "correlates = {\"Fleet\" : \"Sea and coastal water transportation services\",\"Marketing & Communication\":'Financial intermediation services, except insurance and pension funding services',\"Label adhesive\":'Paper and paper products',\"Plastic\":'Plastics, basic',\"Fruit, Berry & Vegetable\":\"Vegetables, fruit, nuts\",\"Facility Management\":facility,\"Paper & Carton\":'Paper and paper products',\"Flour & Grain\":\"Cereal grains nec\",\"Utilities\":utilities,\"Meat\":meat, \"Barrels\":'Fabricated metal products, except machinery and equipment','Glass':'Glass and glass products',\"Metal\":\"Basic iron and steel and of ferro-alloys and first products thereof\",\"Sweeteners\":\"Sugar\",\"Dairy & Egg\":\"Dairy products\",\"Kegs\":'Aluminium and aluminium products',\"Fats & Oils\":'Oil seeds',\"Professional Services\":\"Financial intermediation services, except insurance and pension funding services\",\"Undefined/Undefined\":undefined,\"Seasoning & Additives\":\"Beverages\"}"
   ]
  },
  {
   "cell_type": "code",
   "execution_count": 5,
   "metadata": {},
   "outputs": [],
   "source": [
    "data_materials = data_materials.reset_index()"
   ]
  },
  {
   "cell_type": "code",
   "execution_count": 60,
   "metadata": {},
   "outputs": [
    {
     "data": {
      "text/html": [
       "<div>\n",
       "<style scoped>\n",
       "    .dataframe tbody tr th:only-of-type {\n",
       "        vertical-align: middle;\n",
       "    }\n",
       "\n",
       "    .dataframe tbody tr th {\n",
       "        vertical-align: top;\n",
       "    }\n",
       "\n",
       "    .dataframe thead th {\n",
       "        text-align: right;\n",
       "    }\n",
       "</style>\n",
       "<table border=\"1\" class=\"dataframe\">\n",
       "  <thead>\n",
       "    <tr style=\"text-align: right;\">\n",
       "      <th></th>\n",
       "      <th>SourceRowId</th>\n",
       "      <th>Date</th>\n",
       "      <th>DocumentId</th>\n",
       "      <th>DocumentLineId</th>\n",
       "      <th>ProductId</th>\n",
       "      <th>ProductName</th>\n",
       "      <th>SpendOriginalCurrency</th>\n",
       "      <th>OriginalCurrency</th>\n",
       "      <th>SpendEUR</th>\n",
       "      <th>Quantity</th>\n",
       "      <th>UOM</th>\n",
       "      <th>VendorId</th>\n",
       "      <th>VendorName</th>\n",
       "      <th>VendorCity</th>\n",
       "      <th>VendorCountry</th>\n",
       "      <th>CategoryL1</th>\n",
       "      <th>CategoryL2</th>\n",
       "    </tr>\n",
       "  </thead>\n",
       "  <tbody>\n",
       "    <tr>\n",
       "      <td>0</td>\n",
       "      <td>69041</td>\n",
       "      <td>44019</td>\n",
       "      <td>DOC235E1967D43</td>\n",
       "      <td>2</td>\n",
       "      <td>NaN</td>\n",
       "      <td>NaN</td>\n",
       "      <td>14445.796860</td>\n",
       "      <td>EUR</td>\n",
       "      <td>14445.796860</td>\n",
       "      <td>NaN</td>\n",
       "      <td>NaN</td>\n",
       "      <td>35</td>\n",
       "      <td>AC NIELSEN GmbH.</td>\n",
       "      <td>WIEN</td>\n",
       "      <td>AT</td>\n",
       "      <td>Indirect</td>\n",
       "      <td>Professional Services</td>\n",
       "    </tr>\n",
       "    <tr>\n",
       "      <td>1</td>\n",
       "      <td>69042</td>\n",
       "      <td>44022</td>\n",
       "      <td>DOC2E92F738F42</td>\n",
       "      <td>2</td>\n",
       "      <td>NaN</td>\n",
       "      <td>NaN</td>\n",
       "      <td>42631.120576</td>\n",
       "      <td>EUR</td>\n",
       "      <td>42631.120576</td>\n",
       "      <td>NaN</td>\n",
       "      <td>NaN</td>\n",
       "      <td>35</td>\n",
       "      <td>AC NIELSEN GmbH.</td>\n",
       "      <td>WIEN</td>\n",
       "      <td>AT</td>\n",
       "      <td>Indirect</td>\n",
       "      <td>Professional Services</td>\n",
       "    </tr>\n",
       "    <tr>\n",
       "      <td>2</td>\n",
       "      <td>69043</td>\n",
       "      <td>44023</td>\n",
       "      <td>DOC2CD16DF9B16</td>\n",
       "      <td>2</td>\n",
       "      <td>NaN</td>\n",
       "      <td>NaN</td>\n",
       "      <td>42631.120576</td>\n",
       "      <td>EUR</td>\n",
       "      <td>42631.120576</td>\n",
       "      <td>NaN</td>\n",
       "      <td>NaN</td>\n",
       "      <td>35</td>\n",
       "      <td>AC NIELSEN GmbH.</td>\n",
       "      <td>WIEN</td>\n",
       "      <td>AT</td>\n",
       "      <td>Indirect</td>\n",
       "      <td>Professional Services</td>\n",
       "    </tr>\n",
       "    <tr>\n",
       "      <td>3</td>\n",
       "      <td>69044</td>\n",
       "      <td>44015</td>\n",
       "      <td>DOC25014385EC6</td>\n",
       "      <td>2</td>\n",
       "      <td>NaN</td>\n",
       "      <td>NaN</td>\n",
       "      <td>14445.796860</td>\n",
       "      <td>EUR</td>\n",
       "      <td>14445.796860</td>\n",
       "      <td>NaN</td>\n",
       "      <td>NaN</td>\n",
       "      <td>35</td>\n",
       "      <td>AC NIELSEN GmbH.</td>\n",
       "      <td>WIEN</td>\n",
       "      <td>AT</td>\n",
       "      <td>Indirect</td>\n",
       "      <td>Professional Services</td>\n",
       "    </tr>\n",
       "    <tr>\n",
       "      <td>4</td>\n",
       "      <td>69045</td>\n",
       "      <td>44015</td>\n",
       "      <td>DOC2EE4B883E50</td>\n",
       "      <td>2</td>\n",
       "      <td>NaN</td>\n",
       "      <td>NaN</td>\n",
       "      <td>419.123700</td>\n",
       "      <td>EUR</td>\n",
       "      <td>419.123700</td>\n",
       "      <td>NaN</td>\n",
       "      <td>NaN</td>\n",
       "      <td>35</td>\n",
       "      <td>AC NIELSEN GmbH.</td>\n",
       "      <td>WIEN</td>\n",
       "      <td>AT</td>\n",
       "      <td>Indirect</td>\n",
       "      <td>Professional Services</td>\n",
       "    </tr>\n",
       "    <tr>\n",
       "      <td>...</td>\n",
       "      <td>...</td>\n",
       "      <td>...</td>\n",
       "      <td>...</td>\n",
       "      <td>...</td>\n",
       "      <td>...</td>\n",
       "      <td>...</td>\n",
       "      <td>...</td>\n",
       "      <td>...</td>\n",
       "      <td>...</td>\n",
       "      <td>...</td>\n",
       "      <td>...</td>\n",
       "      <td>...</td>\n",
       "      <td>...</td>\n",
       "      <td>...</td>\n",
       "      <td>...</td>\n",
       "      <td>...</td>\n",
       "      <td>...</td>\n",
       "    </tr>\n",
       "    <tr>\n",
       "      <td>13803</td>\n",
       "      <td>82844</td>\n",
       "      <td>44016</td>\n",
       "      <td>DOC2220D161149</td>\n",
       "      <td>2</td>\n",
       "      <td>NaN</td>\n",
       "      <td>NaN</td>\n",
       "      <td>753.984912</td>\n",
       "      <td>EUR</td>\n",
       "      <td>753.984912</td>\n",
       "      <td>NaN</td>\n",
       "      <td>NaN</td>\n",
       "      <td>45</td>\n",
       "      <td>Dachser - Austria GmbH.</td>\n",
       "      <td>Himberg</td>\n",
       "      <td>AT</td>\n",
       "      <td>Indirect</td>\n",
       "      <td>Fleet</td>\n",
       "    </tr>\n",
       "    <tr>\n",
       "      <td>13804</td>\n",
       "      <td>82845</td>\n",
       "      <td>44018</td>\n",
       "      <td>DOC2EAA9A28767</td>\n",
       "      <td>2</td>\n",
       "      <td>NaN</td>\n",
       "      <td>NaN</td>\n",
       "      <td>362.016562</td>\n",
       "      <td>EUR</td>\n",
       "      <td>362.016562</td>\n",
       "      <td>NaN</td>\n",
       "      <td>NaN</td>\n",
       "      <td>45</td>\n",
       "      <td>Dachser - Austria GmbH.</td>\n",
       "      <td>Himberg</td>\n",
       "      <td>AT</td>\n",
       "      <td>Indirect</td>\n",
       "      <td>Fleet</td>\n",
       "    </tr>\n",
       "    <tr>\n",
       "      <td>13805</td>\n",
       "      <td>82846</td>\n",
       "      <td>44018</td>\n",
       "      <td>DOC200BC612928</td>\n",
       "      <td>2</td>\n",
       "      <td>NaN</td>\n",
       "      <td>NaN</td>\n",
       "      <td>7336.458091</td>\n",
       "      <td>EUR</td>\n",
       "      <td>7336.458091</td>\n",
       "      <td>NaN</td>\n",
       "      <td>NaN</td>\n",
       "      <td>45</td>\n",
       "      <td>Dachser - Austria GmbH.</td>\n",
       "      <td>Himberg</td>\n",
       "      <td>AT</td>\n",
       "      <td>Indirect</td>\n",
       "      <td>Fleet</td>\n",
       "    </tr>\n",
       "    <tr>\n",
       "      <td>13806</td>\n",
       "      <td>82847</td>\n",
       "      <td>44019</td>\n",
       "      <td>DOC2C0C030603B</td>\n",
       "      <td>2</td>\n",
       "      <td>NaN</td>\n",
       "      <td>NaN</td>\n",
       "      <td>362.016562</td>\n",
       "      <td>EUR</td>\n",
       "      <td>362.016562</td>\n",
       "      <td>NaN</td>\n",
       "      <td>NaN</td>\n",
       "      <td>45</td>\n",
       "      <td>Dachser - Austria GmbH.</td>\n",
       "      <td>Himberg</td>\n",
       "      <td>AT</td>\n",
       "      <td>Indirect</td>\n",
       "      <td>Fleet</td>\n",
       "    </tr>\n",
       "    <tr>\n",
       "      <td>13807</td>\n",
       "      <td>82848</td>\n",
       "      <td>44019</td>\n",
       "      <td>DOC2D7E340B54A</td>\n",
       "      <td>2</td>\n",
       "      <td>NaN</td>\n",
       "      <td>NaN</td>\n",
       "      <td>7336.458091</td>\n",
       "      <td>EUR</td>\n",
       "      <td>7336.458091</td>\n",
       "      <td>NaN</td>\n",
       "      <td>NaN</td>\n",
       "      <td>45</td>\n",
       "      <td>Dachser - Austria GmbH.</td>\n",
       "      <td>Himberg</td>\n",
       "      <td>AT</td>\n",
       "      <td>Indirect</td>\n",
       "      <td>Fleet</td>\n",
       "    </tr>\n",
       "  </tbody>\n",
       "</table>\n",
       "<p>13808 rows × 17 columns</p>\n",
       "</div>"
      ],
      "text/plain": [
       "       SourceRowId   Date      DocumentId  DocumentLineId  ProductId  \\\n",
       "0            69041  44019  DOC235E1967D43               2        NaN   \n",
       "1            69042  44022  DOC2E92F738F42               2        NaN   \n",
       "2            69043  44023  DOC2CD16DF9B16               2        NaN   \n",
       "3            69044  44015  DOC25014385EC6               2        NaN   \n",
       "4            69045  44015  DOC2EE4B883E50               2        NaN   \n",
       "...            ...    ...             ...             ...        ...   \n",
       "13803        82844  44016  DOC2220D161149               2        NaN   \n",
       "13804        82845  44018  DOC2EAA9A28767               2        NaN   \n",
       "13805        82846  44018  DOC200BC612928               2        NaN   \n",
       "13806        82847  44019  DOC2C0C030603B               2        NaN   \n",
       "13807        82848  44019  DOC2D7E340B54A               2        NaN   \n",
       "\n",
       "      ProductName  SpendOriginalCurrency OriginalCurrency      SpendEUR  \\\n",
       "0             NaN           14445.796860              EUR  14445.796860   \n",
       "1             NaN           42631.120576              EUR  42631.120576   \n",
       "2             NaN           42631.120576              EUR  42631.120576   \n",
       "3             NaN           14445.796860              EUR  14445.796860   \n",
       "4             NaN             419.123700              EUR    419.123700   \n",
       "...           ...                    ...              ...           ...   \n",
       "13803         NaN             753.984912              EUR    753.984912   \n",
       "13804         NaN             362.016562              EUR    362.016562   \n",
       "13805         NaN            7336.458091              EUR   7336.458091   \n",
       "13806         NaN             362.016562              EUR    362.016562   \n",
       "13807         NaN            7336.458091              EUR   7336.458091   \n",
       "\n",
       "       Quantity  UOM  VendorId               VendorName VendorCity  \\\n",
       "0           NaN  NaN        35         AC NIELSEN GmbH.       WIEN   \n",
       "1           NaN  NaN        35         AC NIELSEN GmbH.       WIEN   \n",
       "2           NaN  NaN        35         AC NIELSEN GmbH.       WIEN   \n",
       "3           NaN  NaN        35         AC NIELSEN GmbH.       WIEN   \n",
       "4           NaN  NaN        35         AC NIELSEN GmbH.       WIEN   \n",
       "...         ...  ...       ...                      ...        ...   \n",
       "13803       NaN  NaN        45  Dachser - Austria GmbH.    Himberg   \n",
       "13804       NaN  NaN        45  Dachser - Austria GmbH.    Himberg   \n",
       "13805       NaN  NaN        45  Dachser - Austria GmbH.    Himberg   \n",
       "13806       NaN  NaN        45  Dachser - Austria GmbH.    Himberg   \n",
       "13807       NaN  NaN        45  Dachser - Austria GmbH.    Himberg   \n",
       "\n",
       "      VendorCountry CategoryL1             CategoryL2  \n",
       "0                AT   Indirect  Professional Services  \n",
       "1                AT   Indirect  Professional Services  \n",
       "2                AT   Indirect  Professional Services  \n",
       "3                AT   Indirect  Professional Services  \n",
       "4                AT   Indirect  Professional Services  \n",
       "...             ...        ...                    ...  \n",
       "13803            AT   Indirect                  Fleet  \n",
       "13804            AT   Indirect                  Fleet  \n",
       "13805            AT   Indirect                  Fleet  \n",
       "13806            AT   Indirect                  Fleet  \n",
       "13807            AT   Indirect                  Fleet  \n",
       "\n",
       "[13808 rows x 17 columns]"
      ]
     },
     "execution_count": 60,
     "metadata": {},
     "output_type": "execute_result"
    }
   ],
   "source": [
    "data_countries"
   ]
  },
  {
   "cell_type": "code",
   "execution_count": 7,
   "metadata": {},
   "outputs": [
    {
     "data": {
      "text/plain": [
       "'\\n[Countries] : [Cities]\\n\\n[Countries] : [Companies]\\n\\n[Cities] : [Companies]\\n\\n[companies] : [{total_spent , Type , co2 per euro , [bullet points]}\\n\\n\\n\\n\\n\\n\\n\\n\\n'"
      ]
     },
     "execution_count": 7,
     "metadata": {},
     "output_type": "execute_result"
    }
   ],
   "source": [
    "'''\n",
    "[Countries] : [Cities]\n",
    "\n",
    "[Countries] : [Companies]\n",
    "\n",
    "[Cities] : [Companies]\n",
    "\n",
    "[companies] : [{total_spent , Type , co2 per euro , [bullet points]}\n",
    "\n",
    "\n",
    "\n",
    "\n",
    "\n",
    "\n",
    "\n",
    "\n",
    "'''"
   ]
  },
  {
   "cell_type": "code",
   "execution_count": 11,
   "metadata": {},
   "outputs": [],
   "source": [
    "countries_to_companies = pd.DataFrame(index = data_countries.VendorCountry.unique() )"
   ]
  },
  {
   "cell_type": "code",
   "execution_count": 64,
   "metadata": {},
   "outputs": [
    {
     "name": "stdout",
     "output_type": "stream",
     "text": [
      "{'wien': ['PKE Facility Management GmbH', 'Austrian Power Grid AG'], 'salzburg': ['Alpenrind GmbH', 'GETRA Logistics Austria GmbH & Co. KG'], 'wartberg an der krems': ['Greiner Packaging Wartberg'], 'innsbruck': ['TIGAS Erdgas Tirol GmbH'], 'amsterdam': ['LeasePlan Corporation N.V.'], 'unterwaltersdorf': ['CORETH Kunststoffverarb. GmbH'], 'kirchschlag': ['GRANDITS GmbH.'], 'enns': ['OSI Food Solutions Austria GmbH & Co KG'], 'himberg': ['HNAT GmbH', 'Dachser - Austria GmbH.'], 'walchsee': ['Agentur Sock OG'], 'eisenstadt': ['Netz Burgenland GmbH'], 'baden': ['NÖM AG'], 'nikolaev region': ['Farm Enterprise \"Organic Systems\"'], 'helsinki': ['BBO Creative'], 'graz': ['Norbert Marcher GmbH Betriebstaette'], 'hamburg': ['Tulip Food Company GmbH', 'MASSBERG Karl W.K. GmbH.& Co KG'], 'klagenfurt': ['TARIS HandelsgesmbH'], 'mauerkirchen': ['LITZ-Konfektion GmbH & Co KG'], 'poechlarn': ['VETROPACK AUSTRIA GMBH'], 'enzesfeld-lindabrunn': ['Ardagh Metal Beverage Manufactur Austria'], 'gloggnitz': ['GIG Karasek GmbH'], 'wulkaprodersdorf': ['WASSERVERBAND WULKATAL'], 'rohrbach': ['WVT Fass GmbH.'], 'gleisdorf': ['ZIMMERMANN Druck KG'], 'collecchio': ['Consorzio Padano Ortofrutticolo'], 'goleniow': ['Crown Commercial Polska Sp.z.o.o.'], 'athens': ['D.NOMIKOS S.A.'], 'bree': ['Greenyard Prepare Belgium nv'], 'mamming': ['Mamminger Konserven GmbH'], 'wr. neudorf': ['BILLA AG'], 'bruck/leitha': ['Bunge Austria GmbH'], 'traiskirchen': ['MARZEK ETIKETTEN GMBH.'], 'ansfelden': ['Mayr & Holzinger OG'], 'frankfurt am main': ['WPP Marketing Communications Germany'], 'mattersburg': ['MEIDL Spedition GmbH'], 'trencianska tepla': ['Povazsky cukor a.s.'], 'halstead essex': ['RPC Containers Limited'], 'tianjin': ['International Trade Co.Ltd.']}\n"
     ]
    }
   ],
   "source": [
    "json_cities_to_companies = dict()\n",
    "for i in data_countries[\"VendorCity\"].unique():\n",
    "    json_cities_to_companies[i.lower()] = []\n",
    "    for company in data_countries[data_countries[\"VendorCity\"] == i][\"VendorName\"].unique():\n",
    "        json_cities_to_companies[i.lower()].append(company)\n",
    "        \n",
    "print(json_cities_to_companies)"
   ]
  },
  {
   "cell_type": "code",
   "execution_count": 140,
   "metadata": {},
   "outputs": [
    {
     "data": {
      "text/plain": [
       "830.68371"
      ]
     },
     "execution_count": 140,
     "metadata": {},
     "output_type": "execute_result"
    }
   ],
   "source": [
    "data_countries[(data_countries[\"VendorName\"] == \"Norbert Marcher GmbH Betriebstaette\")&(data_countries[\"CategoryL2\"]=='Fruit, Berry & Vegetable')][\"SpendEUR\"].sum()"
   ]
  },
  {
   "cell_type": "code",
   "execution_count": 324,
   "metadata": {},
   "outputs": [],
   "source": [
    "undefined = {'Agentur Sock OG':\"Food products nec\",'PKE Facility Management GmbH':\"Financial intermediation services, except insurance and pension funding services\",'Clean Team Universal GmbH':\"Other business services\",'LITZ-Konfektion GmbH & Co KG':'Textiles','WVT Fass GmbH.':'Other land transportation services','MEIDL Spedition GmbH':'Other land transportation services'}"
   ]
  },
  {
   "cell_type": "code",
   "execution_count": 146,
   "metadata": {},
   "outputs": [],
   "source": [
    "meat = {'Alpenrind GmbH':\"Meat animals nec\",'GRANDITS GmbH.':\"Meat animals nec\",'OSI Food Solutions Austria GmbH & Co KG':\"Meat animals nec\",'Norbert Marcher GmbH Betriebstaette':'Meat products nec','Tulip Food Company GmbH':\"Meat products nec\"}"
   ]
  },
  {
   "cell_type": "code",
   "execution_count": 202,
   "metadata": {},
   "outputs": [],
   "source": [
    "facility = {'Austrian Power Grid AG':\"Electricity nec\" , 'WASSERVERBAND WULKATAL' : \"Electricity nec\" ,'LITZ-Konfektion GmbH & Co KG':\"Textiles\" , 'MEIDL Spedition GmbH' : \"Other land transportation services\" }"
   ]
  },
  {
   "cell_type": "code",
   "execution_count": 63,
   "metadata": {},
   "outputs": [],
   "source": [
    "import json\n",
    "\n",
    "with open('countries_to_companies.json', 'w') as fp:\n",
    "    json.dump(json_countries_to_companies, fp)\n"
   ]
  },
  {
   "cell_type": "code",
   "execution_count": 65,
   "metadata": {},
   "outputs": [],
   "source": [
    "with open('cities_to_companies.json', 'w') as fp:\n",
    "    json.dump(json_cities_to_companies, fp)"
   ]
  },
  {
   "cell_type": "code",
   "execution_count": null,
   "metadata": {},
   "outputs": [],
   "source": [
    "#DELETE MRO\n",
    "#make companies class\n",
    "#"
   ]
  },
  {
   "cell_type": "code",
   "execution_count": 252,
   "metadata": {},
   "outputs": [],
   "source": [
    "data_countries = data_countries.drop(data_countries[data_countries[\"CategoryL2\"] == \"MRO\"].index"
   ]
  },
  {
   "cell_type": "code",
   "execution_count": 394,
   "metadata": {},
   "outputs": [
    {
     "name": "stdout",
     "output_type": "stream",
     "text": [
      "{'Financial intermediation services, except insurance and pension funding services': 8, 'Meat animals nec': 3, 'Plastics, basic': 4, 'Distribution services of gaseous fuels through mains': 1, 'Sea and coastal water transportation services': 4, 'Vegetables, fruit, nuts': 9, 'Food products nec': 1, 'Electricity nec': 3, 'Dairy products': 1, 'Meat products nec': 2, 'Other business services': 1, 'Textiles': 1, 'Glass and glass products': 1, 'Fabricated metal products, except machinery and equipment': 1, 'Machinery and equipment n.e.c.': 1, 'Other land transportation services': 2, 'Paper and paper products': 2, 'Aluminium and aluminium products': 1, 'Cereal grains nec': 1, 'Oil seeds': 1, 'Sugar': 1}\n"
     ]
    }
   ],
   "source": [
    "companies_json = dict()\n",
    "\n",
    "set_of_types = set()\n",
    "\n",
    "for company in data_countries[\"VendorName\"].unique():\n",
    "    companies_json[company] =dict()\n",
    "    companies_json[company][\"total_sum\"] = data_countries[data_countries[\"VendorName\"] == company][\"SpendEUR\"].sum()\n",
    "    types = data_countries[data_countries[\"VendorName\"] == company][\"CategoryL2\"].unique()\n",
    "    if len(types)>1:\n",
    "        typpe = company_generalisation[company]\n",
    "    else:\n",
    "        typpe = types[0]\n",
    "    if type(correlates[typpe]) == type({\"dict\":\"dict\"}):\n",
    "        companies_json[company][\"type\"] = correlates[typpe][company]\n",
    "        new_type = companies_json[company][\"type\"] = correlates[typpe][company]\n",
    "    else:\n",
    "        companies_json[company][\"type\"] = (correlates[typpe])\n",
    "        new_type = companies_json[company][\"type\"] = (correlates[typpe])\n",
    "    set_of_types.add(new_type)\n",
    "    companies_json[company][\"per_euro\"] = data_fields[data_fields[\"Process\"] == new_type ][\"CO2eq_kg\"].values[0]\n",
    "\n",
    "\n",
    "\n",
    "dict_of_types = dict()\n",
    "\n",
    "for company in companies_json:\n",
    "    typpe = companies_json[company][\"type\"]\n",
    "    if typpe not in dict_of_types:\n",
    "        dict_of_types[typpe] = 0\n",
    "    dict_of_types[typpe] +=1\n",
    "print(dict_of_types)"
   ]
  },
  {
   "cell_type": "code",
   "execution_count": 408,
   "metadata": {},
   "outputs": [],
   "source": [
    "with open('companies_cities_incl.json', 'w') as fp:\n",
    "    json.dump(cities_to_incl_companies_json, fp)"
   ]
  },
  {
   "cell_type": "code",
   "execution_count": 141,
   "metadata": {},
   "outputs": [],
   "source": [
    "company_generalisation = {\"Greiner Packaging Wartberg\":\"Plastic\",\"Austrian Power Grid AG\":'Facility Management',\"Norbert Marcher GmbH Betriebstaette\":\"Meat\",\"LITZ-Konfektion GmbH & Co KG\":'Facility Management',\"Ardagh Metal Beverage Manufactur Austria\":\"Barrels\",\"WVT Fass GmbH.\":'Undefined/Undefined',\"ZIMMERMANN Druck KG\":'Paper & Carton',\"Crown Commercial Polska Sp.z.o.o.\":'Kegs',\"MASSBERG Karl W.K. GmbH.& Co KG\":'Flour & Grain',\"GETRA Logistics Austria GmbH & Co. KG\":'Fleet',\"MEIDL Spedition GmbH\":'Undefined/Undefined'}"
   ]
  },
  {
   "cell_type": "code",
   "execution_count": 127,
   "metadata": {},
   "outputs": [
    {
     "data": {
      "text/plain": [
       "Series([], Name: CO2eq_kg, dtype: float64)"
      ]
     },
     "execution_count": 127,
     "metadata": {},
     "output_type": "execute_result"
    }
   ],
   "source": [
    "data_fields[data_fields[\"Process\"] == 'Professional Services' ][\"CO2eq_kg\"]"
   ]
  },
  {
   "cell_type": "code",
   "execution_count": 397,
   "metadata": {},
   "outputs": [
    {
     "name": "stdout",
     "output_type": "stream",
     "text": [
      "{'wien': [{'total_sum': 4996924.412783999, 'type': 'Financial intermediation services', 'per_euro': 0.16208818828995944, 'name': 'PKE Facility Management GmbH'}, {'total_sum': 1922637.9241440003, 'type': 'Electricity', 'per_euro': 0.7330778913044298, 'name': 'Austrian Power Grid AG'}], 'salzburg': [{'total_sum': 708464.8818709999, 'type': \"Animals' meat\", 'per_euro': 0.28944115225547057, 'name': 'Alpenrind GmbH'}, {'total_sum': 7915882.882877, 'type': 'Sea and coastal water transportation services', 'per_euro': 2.661206930504414, 'name': 'GETRA Logistics Austria GmbH & Co. KG'}], 'wartberg an der krems': [{'total_sum': 2573737.1136729997, 'type': 'Plastics, basic', 'per_euro': 0.6165768210540873, 'name': 'Greiner Packaging Wartberg'}], 'innsbruck': [{'total_sum': 4810484.898145, 'type': 'Distribution of gaseous fuels', 'per_euro': 2.429087198490782, 'name': 'TIGAS Erdgas Tirol GmbH'}], 'amsterdam': [{'total_sum': 2047343.4107280003, 'type': 'Sea and coastal water transportation services', 'per_euro': 2.661206930504414, 'name': 'LeasePlan Corporation N.V.'}], 'unterwaltersdorf': [{'total_sum': 693257.658569, 'type': 'Plastics, basic', 'per_euro': 0.6165768210540873, 'name': 'CORETH Kunststoffverarb. GmbH'}], 'kirchschlag': [{'total_sum': 657944.953251, 'type': \"Animals' meat\", 'per_euro': 0.28944115225547057, 'name': 'GRANDITS GmbH.'}], 'enns': [{'total_sum': 2128237.7583, 'type': \"Animals' meat\", 'per_euro': 0.28944115225547057, 'name': 'OSI Food Solutions Austria GmbH & Co KG'}], 'himberg': [{'total_sum': 772245.528504, 'type': 'Plastics, basic', 'per_euro': 0.6165768210540873, 'name': 'HNAT GmbH'}, {'total_sum': 1026351.823818, 'type': 'Sea and coastal water transportation services', 'per_euro': 2.661206930504414, 'name': 'Dachser - Austria GmbH.'}], 'walchsee': [{'total_sum': 450243.39999999997, 'type': 'Vegetables, fruit, nuts', 'per_euro': 0.40378554457579474, 'name': 'Agentur Sock OG'}], 'eisenstadt': [{'total_sum': 613269.857504, 'type': 'Electricity', 'per_euro': 0.7330778913044298, 'name': 'Netz Burgenland GmbH'}], 'baden': [{'total_sum': 478824.39933, 'type': 'Dairy products', 'per_euro': 0.42191207390631896, 'name': 'NÖM AG'}], 'nikolaev region': [{'total_sum': 669547.4988960001, 'type': 'Vegetables, fruit, nuts', 'per_euro': 0.32246675549052045, 'name': 'Farm Enterprise \"Organic Systems\"'}], 'helsinki': [{'total_sum': 621093.6264, 'type': 'Financial intermediation services', 'per_euro': 0.16208818828995944, 'name': 'BBO Creative'}], 'graz': [{'total_sum': 1829075.072314, 'type': 'Meat products', 'per_euro': 4.3559869861264, 'name': 'Norbert Marcher GmbH Betriebstaette'}], 'hamburg': [{'total_sum': 888391.185357, 'type': 'Meat products', 'per_euro': 4.3559869861264, 'name': 'Tulip Food Company GmbH'}, {'total_sum': 625592.21181, 'type': 'Cereal & Grains', 'per_euro': 0.34611545185390424, 'name': 'MASSBERG Karl W.K. GmbH.& Co KG'}], 'klagenfurt': [{'total_sum': 1637386.2512090001, 'type': 'Vegetables, fruit, nuts', 'per_euro': 0.32246675549052045, 'name': 'TARIS HandelsgesmbH'}], 'mauerkirchen': [{'total_sum': 601854.038077, 'type': 'Textiles', 'per_euro': 0.4267747388335015, 'name': 'LITZ-Konfektion GmbH & Co KG'}], 'poechlarn': [{'total_sum': 1788851.682806, 'type': 'Glass and glass products', 'per_euro': 0.9444731353073536, 'name': 'VETROPACK AUSTRIA GMBH'}], 'enzesfeld-lindabrunn': [{'total_sum': 3594462.880156, 'type': 'Fabricated metal products', 'per_euro': 0.6183080392914619, 'name': 'Ardagh Metal Beverage Manufactur Austria'}], 'gloggnitz': [{'total_sum': 3079676.301991, 'type': 'Machinery and equipment', 'per_euro': 0.5516668890855636, 'name': 'GIG Karasek GmbH'}], 'wulkaprodersdorf': [{'total_sum': 1729920.49926, 'type': 'Electricity', 'per_euro': 0.7330778913044298, 'name': 'WASSERVERBAND WULKATAL'}], 'rohrbach': [{'total_sum': 3870475.73173, 'type': 'Other land transportation services', 'per_euro': 0.4182068506161622, 'name': 'WVT Fass GmbH.'}], 'gleisdorf': [{'total_sum': 397488.96586, 'type': 'Paper and paper products', 'per_euro': 0.7280617236426291, 'name': 'ZIMMERMANN Druck KG'}], 'collecchio': [{'total_sum': 1113062.807338, 'type': 'Vegetables, fruit, nuts', 'per_euro': 0.32246675549052045, 'name': 'Consorzio Padano Ortofrutticolo'}], 'goleniow': [{'total_sum': 652308.2245329999, 'type': 'Aluminium and aluminium products', 'per_euro': 0.9288443650333252, 'name': 'Crown Commercial Polska Sp.z.o.o.'}], 'athens': [{'total_sum': 1461969.7234029996, 'type': 'Vegetables, fruit, nuts', 'per_euro': 0.32246675549052045, 'name': 'D.NOMIKOS S.A.'}], 'bree': [{'total_sum': 895997.6446250002, 'type': 'Vegetables, fruit, nuts', 'per_euro': 0.32246675549052045, 'name': 'Greenyard Prepare Belgium nv'}], 'mamming': [{'total_sum': 474989.605706, 'type': 'Vegetables, fruit, nuts', 'per_euro': 0.32246675549052045, 'name': 'Mamminger Konserven GmbH'}], 'wr. neudorf': [{'total_sum': 565001.0, 'type': 'Financial intermediation services', 'per_euro': 0.16208818828995944, 'name': 'BILLA AG'}], 'bruck/leitha': [{'total_sum': 585556.0050009999, 'type': 'Oil seeds', 'per_euro': 0.7904248949011925, 'name': 'Bunge Austria GmbH'}], 'traiskirchen': [{'total_sum': 478933.782236, 'type': 'Paper and paper products', 'per_euro': 0.7280617236426291, 'name': 'MARZEK ETIKETTEN GMBH.'}], 'ansfelden': [{'total_sum': 515265.403001, 'type': 'Vegetables, fruit, nuts', 'per_euro': 0.32246675549052045, 'name': 'Mayr & Holzinger OG'}], 'frankfurt am main': [{'total_sum': 4904699.8192650005, 'type': 'Financial intermediation services', 'per_euro': 0.16208818828995944, 'name': 'WPP Marketing Communications Germany'}], 'mattersburg': [{'total_sum': 2182047.06768, 'type': 'Other land transportation services', 'per_euro': 0.4182068506161622, 'name': 'MEIDL Spedition GmbH'}], 'trencianska tepla': [{'total_sum': 1134705.804279, 'type': 'Sugar', 'per_euro': 0.3392571863259293, 'name': 'Povazsky cukor a.s.'}], 'halstead essex': [{'total_sum': 474874.7603390001, 'type': 'Plastics, basic', 'per_euro': 0.6165768210540873, 'name': 'RPC Containers Limited'}], 'tianjin': [{'total_sum': 575874.063847, 'type': 'Vegetables, fruit, nuts', 'per_euro': 0.32246675549052045, 'name': 'International Trade Co.Ltd.'}]}\n"
     ]
    }
   ],
   "source": [
    "cities_to_incl_companies_json = dict()\n",
    "\n",
    "for city in data_countries[\"VendorCity\"].unique():\n",
    "    cities_to_incl_companies_json[city.lower()] = []\n",
    "    for company in data_countries[data_countries[\"VendorCity\"] == city][\"VendorName\"].unique():\n",
    "        companies_json[company][\"name\"] = company\n",
    "        cities_to_incl_companies_json[city.lower()].append(companies_json[company])\n",
    "print(cities_to_incl_companies_json)"
   ]
  },
  {
   "cell_type": "code",
   "execution_count": 395,
   "metadata": {},
   "outputs": [],
   "source": [
    "for company in companies_json:\n",
    "    typpe = companies_json[company][\"type\"]\n",
    "    if typpe in type_replacement:\n",
    "        companies_json[company][\"type\"] = type_replacement[typpe]"
   ]
  },
  {
   "cell_type": "code",
   "execution_count": 398,
   "metadata": {},
   "outputs": [
    {
     "name": "stdout",
     "output_type": "stream",
     "text": [
      "{'AC NIELSEN GmbH.': {'total_sum': 595082.633335, 'type': 'Financial intermediation services', 'per_euro': 0.16208818828995944, 'name': 'AC NIELSEN GmbH.'}, 'Alpenrind GmbH': {'total_sum': 708464.8818709999, 'type': \"Animals' meat\", 'per_euro': 0.28944115225547057, 'name': 'Alpenrind GmbH'}, 'Greiner Packaging Wartberg': {'total_sum': 2573737.1136729997, 'type': 'Plastics, basic', 'per_euro': 0.6165768210540873, 'name': 'Greiner Packaging Wartberg'}, 'TIGAS Erdgas Tirol GmbH': {'total_sum': 4810484.898145, 'type': 'Distribution of gaseous fuels', 'per_euro': 2.429087198490782, 'name': 'TIGAS Erdgas Tirol GmbH'}, 'LeasePlan Corporation N.V.': {'total_sum': 2047343.4107280003, 'type': 'Sea and coastal water transportation services', 'per_euro': 2.661206930504414, 'name': 'LeasePlan Corporation N.V.'}, 'Radio Max GmbH': {'total_sum': 12464.856255000004, 'type': 'Financial intermediation services', 'per_euro': 0.16208818828995944, 'name': 'Radio Max GmbH'}, 'StepChange Consulting GmbH': {'total_sum': 819025.6120250002, 'type': 'Financial intermediation services', 'per_euro': 0.16208818828995944, 'name': 'StepChange Consulting GmbH'}, 'CORETH Kunststoffverarb. GmbH': {'total_sum': 693257.658569, 'type': 'Plastics, basic', 'per_euro': 0.6165768210540873, 'name': 'CORETH Kunststoffverarb. GmbH'}, 'GLOBUS Konserven- u. Tiefk.prod. Gm': {'total_sum': 500453.278363, 'type': 'Vegetables, fruit, nuts', 'per_euro': 0.32246675549052045, 'name': 'GLOBUS Konserven- u. Tiefk.prod. Gm'}, 'GRANDITS GmbH.': {'total_sum': 657944.953251, 'type': \"Animals' meat\", 'per_euro': 0.28944115225547057, 'name': 'GRANDITS GmbH.'}, 'OSI Food Solutions Austria GmbH & Co KG': {'total_sum': 2128237.7583, 'type': \"Animals' meat\", 'per_euro': 0.28944115225547057, 'name': 'OSI Food Solutions Austria GmbH & Co KG'}, 'HNAT GmbH': {'total_sum': 772245.528504, 'type': 'Plastics, basic', 'per_euro': 0.6165768210540873, 'name': 'HNAT GmbH'}, 'Dachser - Austria GmbH.': {'total_sum': 1026351.823818, 'type': 'Sea and coastal water transportation services', 'per_euro': 2.661206930504414, 'name': 'Dachser - Austria GmbH.'}, 'Agentur Sock OG': {'total_sum': 450243.39999999997, 'type': 'Vegetables, fruit, nuts', 'per_euro': 0.40378554457579474, 'name': 'Agentur Sock OG'}, 'PKE Facility Management GmbH': {'total_sum': 4996924.412783999, 'type': 'Financial intermediation services', 'per_euro': 0.16208818828995944, 'name': 'PKE Facility Management GmbH'}, 'Netz Burgenland GmbH': {'total_sum': 613269.857504, 'type': 'Electricity', 'per_euro': 0.7330778913044298, 'name': 'Netz Burgenland GmbH'}, 'NÖM AG': {'total_sum': 478824.39933, 'type': 'Dairy products', 'per_euro': 0.42191207390631896, 'name': 'NÖM AG'}, 'REWE Group Verlag GmbH': {'total_sum': 374182.04162499995, 'type': 'Financial intermediation services', 'per_euro': 0.16208818828995944, 'name': 'REWE Group Verlag GmbH'}, 'Farm Enterprise \"Organic Systems\"': {'total_sum': 669547.4988960001, 'type': 'Vegetables, fruit, nuts', 'per_euro': 0.32246675549052045, 'name': 'Farm Enterprise \"Organic Systems\"'}, 'BBO Creative': {'total_sum': 621093.6264, 'type': 'Financial intermediation services', 'per_euro': 0.16208818828995944, 'name': 'BBO Creative'}, 'Austrian Power Grid AG': {'total_sum': 1922637.9241440003, 'type': 'Electricity', 'per_euro': 0.7330778913044298, 'name': 'Austrian Power Grid AG'}, 'Norbert Marcher GmbH Betriebstaette': {'total_sum': 1829075.072314, 'type': 'Meat products', 'per_euro': 4.3559869861264, 'name': 'Norbert Marcher GmbH Betriebstaette'}, 'Tulip Food Company GmbH': {'total_sum': 888391.185357, 'type': 'Meat products', 'per_euro': 4.3559869861264, 'name': 'Tulip Food Company GmbH'}, 'TARIS HandelsgesmbH': {'total_sum': 1637386.2512090001, 'type': 'Vegetables, fruit, nuts', 'per_euro': 0.32246675549052045, 'name': 'TARIS HandelsgesmbH'}, 'Clean Team Universal GmbH': {'total_sum': 477148.0279080001, 'type': 'Other business services', 'per_euro': 0.2529562288941221, 'name': 'Clean Team Universal GmbH'}, 'LITZ-Konfektion GmbH & Co KG': {'total_sum': 601854.038077, 'type': 'Textiles', 'per_euro': 0.4267747388335015, 'name': 'LITZ-Konfektion GmbH & Co KG'}, 'SCHENKER & CO AG': {'total_sum': 1115860.728224, 'type': 'Sea and coastal water transportation services', 'per_euro': 2.661206930504414, 'name': 'SCHENKER & CO AG'}, 'VETROPACK AUSTRIA GMBH': {'total_sum': 1788851.682806, 'type': 'Glass and glass products', 'per_euro': 0.9444731353073536, 'name': 'VETROPACK AUSTRIA GMBH'}, 'Ardagh Metal Beverage Manufactur Austria': {'total_sum': 3594462.880156, 'type': 'Fabricated metal products', 'per_euro': 0.6183080392914619, 'name': 'Ardagh Metal Beverage Manufactur Austria'}, 'GIG Karasek GmbH': {'total_sum': 3079676.301991, 'type': 'Machinery and equipment', 'per_euro': 0.5516668890855636, 'name': 'GIG Karasek GmbH'}, 'WASSERVERBAND WULKATAL': {'total_sum': 1729920.49926, 'type': 'Electricity', 'per_euro': 0.7330778913044298, 'name': 'WASSERVERBAND WULKATAL'}, 'WVT Fass GmbH.': {'total_sum': 3870475.73173, 'type': 'Other land transportation services', 'per_euro': 0.4182068506161622, 'name': 'WVT Fass GmbH.'}, 'ZIMMERMANN Druck KG': {'total_sum': 397488.96586, 'type': 'Paper and paper products', 'per_euro': 0.7280617236426291, 'name': 'ZIMMERMANN Druck KG'}, 'Consorzio Padano Ortofrutticolo': {'total_sum': 1113062.807338, 'type': 'Vegetables, fruit, nuts', 'per_euro': 0.32246675549052045, 'name': 'Consorzio Padano Ortofrutticolo'}, 'Crown Commercial Polska Sp.z.o.o.': {'total_sum': 652308.2245329999, 'type': 'Aluminium and aluminium products', 'per_euro': 0.9288443650333252, 'name': 'Crown Commercial Polska Sp.z.o.o.'}, 'D.NOMIKOS S.A.': {'total_sum': 1461969.7234029996, 'type': 'Vegetables, fruit, nuts', 'per_euro': 0.32246675549052045, 'name': 'D.NOMIKOS S.A.'}, 'MASSBERG Karl W.K. GmbH.& Co KG': {'total_sum': 625592.21181, 'type': 'Cereal & Grains', 'per_euro': 0.34611545185390424, 'name': 'MASSBERG Karl W.K. GmbH.& Co KG'}, 'Greenyard Prepare Belgium nv': {'total_sum': 895997.6446250002, 'type': 'Vegetables, fruit, nuts', 'per_euro': 0.32246675549052045, 'name': 'Greenyard Prepare Belgium nv'}, 'Mamminger Konserven GmbH': {'total_sum': 474989.605706, 'type': 'Vegetables, fruit, nuts', 'per_euro': 0.32246675549052045, 'name': 'Mamminger Konserven GmbH'}, 'BILLA AG': {'total_sum': 565001.0, 'type': 'Financial intermediation services', 'per_euro': 0.16208818828995944, 'name': 'BILLA AG'}, 'Bunge Austria GmbH': {'total_sum': 585556.0050009999, 'type': 'Oil seeds', 'per_euro': 0.7904248949011925, 'name': 'Bunge Austria GmbH'}, 'GETRA Logistics Austria GmbH & Co. KG': {'total_sum': 7915882.882877, 'type': 'Sea and coastal water transportation services', 'per_euro': 2.661206930504414, 'name': 'GETRA Logistics Austria GmbH & Co. KG'}, 'MARZEK ETIKETTEN GMBH.': {'total_sum': 478933.782236, 'type': 'Paper and paper products', 'per_euro': 0.7280617236426291, 'name': 'MARZEK ETIKETTEN GMBH.'}, 'Mayr & Holzinger OG': {'total_sum': 515265.403001, 'type': 'Vegetables, fruit, nuts', 'per_euro': 0.32246675549052045, 'name': 'Mayr & Holzinger OG'}, 'WPP Marketing Communications Germany': {'total_sum': 4904699.8192650005, 'type': 'Financial intermediation services', 'per_euro': 0.16208818828995944, 'name': 'WPP Marketing Communications Germany'}, 'MEIDL Spedition GmbH': {'total_sum': 2182047.06768, 'type': 'Other land transportation services', 'per_euro': 0.4182068506161622, 'name': 'MEIDL Spedition GmbH'}, 'Povazsky cukor a.s.': {'total_sum': 1134705.804279, 'type': 'Sugar', 'per_euro': 0.3392571863259293, 'name': 'Povazsky cukor a.s.'}, 'RPC Containers Limited': {'total_sum': 474874.7603390001, 'type': 'Plastics, basic', 'per_euro': 0.6165768210540873, 'name': 'RPC Containers Limited'}, 'International Trade Co.Ltd.': {'total_sum': 575874.063847, 'type': 'Vegetables, fruit, nuts', 'per_euro': 0.32246675549052045, 'name': 'International Trade Co.Ltd.'}}\n"
     ]
    }
   ],
   "source": [
    "print(companies_json)"
   ]
  },
  {
   "cell_type": "code",
   "execution_count": 177,
   "metadata": {},
   "outputs": [
    {
     "data": {
      "text/plain": [
       "{'Aluminium and aluminium products',\n",
       " 'Cereal grains nec',\n",
       " 'Dairy products',\n",
       " 'Distribution services of gaseous fuels through mains',\n",
       " 'Electricity nec',\n",
       " 'Fabricated metal products, except machinery and equipment',\n",
       " 'Financial intermediation services, except insurance and pension funding services',\n",
       " 'Food products nec',\n",
       " 'Glass and glass products',\n",
       " 'Machinery and equipment n.e.c.',\n",
       " 'Meat animals nec',\n",
       " 'Meat products nec',\n",
       " 'Oil seeds',\n",
       " 'Other business services',\n",
       " 'Paper and paper products',\n",
       " 'Plastics, basic',\n",
       " 'Sea and coastal water transportation services',\n",
       " 'Sugar',\n",
       " 'Textiles',\n",
       " 'Transportation services via pipelines',\n",
       " 'Vegetables, fruit, nuts'}"
      ]
     },
     "execution_count": 177,
     "metadata": {},
     "output_type": "execute_result"
    }
   ],
   "source": [
    "set_of_types"
   ]
  },
  {
   "cell_type": "code",
   "execution_count": 292,
   "metadata": {},
   "outputs": [],
   "source": [
    "array = []\n",
    "\n",
    "for i in data_countries[\"VendorCity\"].unique():\n",
    "    array.append(i.lower())"
   ]
  },
  {
   "cell_type": "code",
   "execution_count": 371,
   "metadata": {},
   "outputs": [],
   "source": [
    "type_replacement = {'Cereal grains nec':\"Cereal & Grains\" ,'Distribution services of gaseous fuels through mains':\"Distribution of gaseous fuels\",'Electricity nec':\"Electricity\",'Fabricated metal products, except machinery and equipment':\"Fabricated metal products\",'Financial intermediation services, except insurance and pension funding services':\"Financial intermediation services\",\"Food products nec\":'Vegetables, fruit, nuts','Machinery and equipment n.e.c.':\"Machinery and equipment\",'Meat animals nec':\"Animals' meat\",'Meat products nec':\"Meat products\"}"
   ]
  },
  {
   "cell_type": "code",
   "execution_count": 338,
   "metadata": {},
   "outputs": [],
   "source": [
    "al_description =  { \n",
    "    \"text\" : ['<p> The result of the 29 country study yields a global average of 18.4 tonnes of CO2 equivalent emissions and 1.87 Pts per kg of primary aluminium production. In total, the aluminium industry was responsible for the emission of about 861Mtonnes of CO2eq. in 2012, both directly and indirectly. China systematically appeared as being the most important player in all categories on all levels. It produced 40% of global alumina and 46% of global primary aluminium. Doing so, according to the final results, it accounted for 56% of total CO2 equivalent emissions and 54% of global impact. It hence pollutes proportionally more than what it produces.</p>']\n",
    "    , \n",
    "    \"citations\" :['Dimos Paraskevas, Karel Kellens, Alexander Van de Voorde,Environmental Impact Analysis of Primary Aluminium Production at Country Level<'],\n",
    "    \"bullets\" : ['<b> one aluminium hydroxide factory -> 2.479545e+07 CO2-eq kg </b>' , '<b> one aluminium electrolysis facility -> 2.175172e+07 CO2-eq kg']\n",
    "}"
   ]
  },
  {
   "cell_type": "code",
   "execution_count": 347,
   "metadata": {},
   "outputs": [],
   "source": [
    "cer_description = {\n",
    "    \"text\" : ['<p>Governments around the world have committed to finding ways to reduce greenhouse gas emissions. In the UK, emissions from industry remain a significant proportion of the total carbon footprint. Emissions from agriculture accounted for almost 9% of UK greenhouse gas emissions in 2010.</p>','<p>Globally, agriculture is a significant contributor to greenhouse gas emissions. The Intergovernmental Panel on Climate Change (IPCC) fourth assessment report1 estimates that agriculture is directly responsible for 13.5% of global greenhouse gas emissions (Figure 2), with a further 17.4% coming from land use change (mainly deforestation in the developing world to clear land to grow more food or for grazing).</p>','<p>The two biggest sources of greenhouse gases from agriculture are the release of nitrous oxide from agricultural soils and methane from livestock and manures, each of which represents more than 5% of total global greenhouse gas emissions. While energy use in agriculture (for example, diesel for cultivation) is important, its contribution to greenhouse gas emissions is much lower – less than 1.5% of total emissions.</p>'],\n",
    "     \"citations\" : ['Understanding carbon footprinting for cereals and oilseeds https://projectblue.blob.core.windows.net/media/Default/Imported%20Publication%20Docs/Understanding%20carbon%20footprinting%20for%20cereals%20and%20oilseeds.pdf'],\n",
    "    \"bullets\" : ['<b>1 kg of wheat grain - > 0.73059 CO2-eq kg </b>', '<b>1kg of oat grain ->0.860268 CO2-eq kg</b>','<b>1 kg of barley grain ->0.753625 CO2-eq kg</b>']\n",
    "}"
   ]
  },
  {
   "cell_type": "code",
   "execution_count": 355,
   "metadata": {},
   "outputs": [],
   "source": [
    "dai_description = {\n",
    "    \"text\" :['<p>The largest environmental burden for animal food products is created at the primary production stage. For dairy products in industrialised countries about 80% of GHG emissions occur before the farm gate  As a global average, the GHG emissions amount to 2.4 kg carbon dioxide equivalent (CO2e) per kg milk at farm gate (including emissions for transport and processing) There is a significant variation between regions; from approximately 1.5 kg CO2e per kg milk in Europe, North America and Oceania to 7.5 kg CO2e per kg milk in Sub-Saharan Africa. In Northern Africa, Asia and Central and South America the emissions are between roughly 2 and 5 kg CO2e per kg milk .In the industrialised world milk production is characterised by a more specialised production, while in the developing world dairy cattle is more multifunctional (e.g. cows are used as draught power). </p>'],\n",
    "    \"citations\" : [\"Flysjoe, A M. Greenhouse gas emissions in milk and dairy product chains: Improving the carbon footprint of dairy products. Denmark: N. p., 2012. Web\"],\n",
    "    \"bullets\": ['<b>1 kg of yogurt, from cow milk - > 2.674324 CO2-eq kg</b>',\"<b>cream 1 kg, from cow milk -> 3.19635 CO2-eq kg </b>\"]\n",
    "    \n",
    "\n",
    "}"
   ]
  },
  {
   "cell_type": "code",
   "execution_count": 356,
   "metadata": {},
   "outputs": [],
   "source": [
    "distrib = {\n",
    "    \"text\" : [],\n",
    "    \"citations\": [],\n",
    "    \"bullets\" : ['<b>1 km of pipeline with natural gas -> 77656.270168 CO2-eq kg</b>']\n",
    "}"
   ]
  },
  {
   "cell_type": "code",
   "execution_count": 357,
   "metadata": {},
   "outputs": [],
   "source": [
    "electr = {\n",
    "    \"text\" : [],\n",
    "    \"citations\": [],\n",
    "    \"bullets\" : ['<b>1 hydropower plant, reservoir, non-alpine regions\t1.182037e+10 CO2-eq kg</b>','<b>1 wind power plant, 2MW, offshore, moving parts -> 692125.802611 CO2-eq kg</b>','<b>1 geothermal power plant, 5.5MWel -> 1.391246e+08 CO2-eq kg', \"<b>1 hard coal power plant -> 1.193993e+08 CO2-eq kg\"]\n",
    "}"
   ]
  },
  {
   "cell_type": "code",
   "execution_count": 359,
   "metadata": {},
   "outputs": [],
   "source": [
    "metal_products = {\n",
    "    \"text\" : ['<p>Within the design processes of manufacturing facilities the most important environmental pressures are related to the use of raw materials, energy and consumables. For example, companies having an impact on the product design can significantly reduce the environmental impact per manufactured product by material and process selection, product design optimisation for manufacturing processes etc. </p>','<p>The utilities and maintenance applied in the fabricated metal products manufacturing sector (e.g. heating, cooling, compressed air) can require significant energy use. Therefore, heat recovery and smart controls can have a high potential in the reduction of energy use. In general, closed (cooling or heating) systems have a lower impact compared to open systems. Furthermore, these processes can lead to considerable noise and/or vibrations. Likewise, when waste are not segregated (e.g. metal residues from processing) it cannot be achieved recovery and recycling at high quality grades. In general, the utility department is responsible for the maintenance and effective operation of the production plant </p>'],\n",
    "    \"citations\" : [\"Best Environmental Management Practice in the Fabricated Metal Product Μanufacturing sector\"],\n",
    "    \"bullets\" : ['<b> metal working, average for copper 1kg - > 2.15708 CO2-eq kg</b>',\"<b>metal working, average for aluminium product of 1kg -> 3.467069 CO2-eq kg<\\b>\", \"1 metal coating facility -> 170854.062295 CO2-eq\"]\n",
    "}"
   ]
  },
  {
   "cell_type": "code",
   "execution_count": 365,
   "metadata": {},
   "outputs": [],
   "source": [
    "financial_inter = {\n",
    "    \"text\" : ['<p> <b>Waste</b> reduction makes good business sense because it can save your organization money through reduced purchasing and waste disposal costs. A great place to start is the office kitchen, which is often a major source of waste. Easy ways to cut waste include:</p>','<li> Using reusable coffee mugs, glasses, plates, and silverware.</li> <li>\tPurchasing compostable or high post-consumer waste content paper napkin and towel products.</li><li>\tProviding organic coffee, tea, and cocoa.</li>','<p>Twenty-seven percent of U.S. greenhouse gas emissions are from transportation sources, including emissions generated by employees traveling for office-related business and commuting to and from their jobs.Americans made an estimated 457 million one-person trips for business in 2016. Thirty-seven percent of these trips were to meetings and events. Companies of all sizes are increasingly turning to virtual meetings to find savings in time, cost, and increase productivity. You may not be able to forgo every business trip, but you can take a chunk out of your carbon footprint by opting to “meet” from the comfort of your office chair. '],\n",
    "    \"citations\" : [],\n",
    "    \"bullets\" : []\n",
    "}"
   ]
  },
  {
   "cell_type": "code",
   "execution_count": 372,
   "metadata": {},
   "outputs": [],
   "source": [
    "glass = {\n",
    "    \"text\" : ['<p>The total final energy consumption of the glass industry in theEU25 amounted to 343.7 PJ in 2007; the fuel consumptionaccounted for about 83%. The total CO2emissions related to theglass industry in the EU25 in 2007 amounted to 26.9 milliontonnes of which 21.2 million tonnes are direct emissions (i.e.combustion and process emissions).</p>'],\n",
    "    \"citations\" : [\"Andreas Schmitz, Jacek Kamiński,Energy consumption and CO2 emissions of the European glass industry,\"],\n",
    "    \"bullets\" : ['<b>packaging glass sorting facility -> 3.123553e+06 CO2-eq kg</b>' , '<b>glass etching factory -> 491709.257752 CO2-eq kg </b>','<b>1 kg of flat glass, uncoated 1.086707 CO2-eq kg</b>', 'foam glass ,1kg - > 1.958711 CO2-eq kg']\n",
    "    \n",
    "}"
   ]
  },
  {
   "cell_type": "code",
   "execution_count": 373,
   "metadata": {},
   "outputs": [],
   "source": [
    "machinery = {\n",
    "    \"text\" : [],\n",
    "    \"citations\" : [],\n",
    "    \"bullets\" : []\n",
    "}"
   ]
  },
  {
   "cell_type": "code",
   "execution_count": 374,
   "metadata": {},
   "outputs": [],
   "source": [
    "meat = { \n",
    "    \n",
    "    \"text\" : ['<p>The global production of food is responsible for a third of all planet-heating gases emitted by human activity, with the use of animals for meat causing twice the pollution of producing plant-based foods, a major new study has found.</p>','<p>The entire system of food production, such as the use of farming machinery, spraying of fertilizer and transportation of products, causes 17.3bn metric tonnes of greenhouse gases a year, according to the research. This enormous release of gases that fuel the climate crisis is more than double the entire emissions of the US and represents 35% of all global emissions, researchers said.</p>'],\n",
    "    \"citations\" : [\"https://www.theguardian.com/environment/2021/sep/13/meat-greenhouses-gases-food-production-study\"],\n",
    "    \"bullets\" : ['<b>meat and bone meal,kg -> 0.0129 CO2-eq kg']\n",
    "\n",
    "\n",
    "}"
   ]
  },
  {
   "cell_type": "code",
   "execution_count": 378,
   "metadata": {},
   "outputs": [],
   "source": [
    "oil = {\n",
    "    \"text\" : ['<p>Governments around the world have committed to finding ways to reduce greenhouse gas emissions. In the UK, emissions from industry remain a significant proportion of the total carbon footprint. Emissions from agriculture accounted for almost 9% of UK greenhouse gas emissions in 2010.</p>','<p>The two biggest sources of greenhouse gases from agriculture are the release of nitrous oxide from agricultural soils and methane from livestock and manures, each of which represents more than 5% of total global greenhouse gas emissions. While energy use in agriculture (for example, diesel for cultivation) is important, its contribution to greenhouse gas emissions is much lower – less than 1.5% of total emissions.</p>'],\n",
    "    \"citations\" : ['Understanding carbon footprinting for cereals and oilseeds https://projectblue.blob.core.windows.net/media/Default/Imported%20Publication%20Docs/Understanding%20carbon%20footprinting%20for%20cereals%20and%20oilseeds.pdf'],\n",
    "    \"bullets\" : ['<b>cottonseed oil, refined ,kg -> 1.76462 CO2-eq kg </b>','<b>vegetable oil, refined ,kg -> 3.81095 CO2-eq kg </b>']\n",
    "}"
   ]
  },
  {
   "cell_type": "code",
   "execution_count": 380,
   "metadata": {},
   "outputs": [],
   "source": [
    "paper = {\n",
    "    \"text\" : ['<p>The IEA emissions intensity paths for the paper sector only include CO2 emissions, but, according to the United States Environmental Protection Agency (EPA), between 2013 and 2018 an average of 1.9% of the paper sector’s Scope 1 greenhouse gas emissions measured on a CO2-equivalent basis was composed of methane (CH4) and nitrous oxide (N2O) Other sources, for example from the EU, suggest that the non-CO2 emissions from paper are less than 5%, or generically call them “small” We therefore assume the US average share of non-CO2 emissions in CO2e emissions provides an approximation of the global average share.</p>'],\n",
    "    \"citations\" :[],\n",
    "    \"bullets\" : [\"<b>waste paper, sorted, kg -> 0.061839 CO2-eq kg </b>\" , \"<b> printed paper,kg -> 2.462451 CO2-eq kg\" , \"waste paper sorting facility -> 7.612850e+06 CO2-eq kg\"],\n",
    "}"
   ]
  },
  {
   "cell_type": "code",
   "execution_count": 381,
   "metadata": {},
   "outputs": [],
   "source": [
    "plastics = {\n",
    "    \"text\" : ['<p>Plastic refining is among the most greenhouse- gas-intensive industries in the manufacturing sector—and the fastest growing. The manufacture of plastic is both energy intense and emissions intensive in its own right, producing significant emissions through the cracking of alkanes into olefins, the polymerization and plasticization of olefins into plastic resins, and other chemical refining processes. in 2015, 24 ethylene facilities in the uS produced 17.5 million metric tons of CO2e, emitting as much CO2 as 3.8 million passenger vehicles. globally in 2015, emissions from cracking to produce ethylene were 184.3–213.0 million metric tons of CO2e, as much as 45 million passenger vehicles driven for one year</p>','<p>The plastic and petrochemical industries’ plans to expand plastic production threaten to exacerbate plastic’s climate impacts and could make limiting global temperature rise to 1.5°C impossible. if the production, disposal, and incineration of plastic continue on their present growth trajectory, by 2030, these global emissions could reach 1.34 gigatons per year—equivalent to more than 295 five-hundred-megawatt coal plants. By 2050, plastic production and incineration could emit 2.8 gigatons of CO2 per year, releasing as much emissions as 615 five-hundred-megawatt coal plants.</p>'],\n",
    "    \"citations\" : [\"“Center for International Environmental Law https://www.ciel.org/project-update/plastic-climate-the-hidden-costs-of-a-plastic-planet/”\"] ,\n",
    "    \"bullets\" : [\"<b>waste plastic, industrial electronics ,kg -> 2.408164 CO2-eq kg </b>\",\"<b>waste plastic plaster ,kg -> 0.012531 CO2-eq kg </b>\"]\n",
    "}"
   ]
  },
  {
   "cell_type": "code",
   "execution_count": 382,
   "metadata": {},
   "outputs": [],
   "source": [
    "seas = { \n",
    "    \"text\" : ['<p>As world trade continues to grow, there is an increasing number of ships crossing our oceans, each using vast amounts of energy.The shipping industry is responsible for around 940 million tonnes of CO2 annually, which is at least 2.5% of the world’s total CO2 emissions.</p>','<p> Shipping is the least environmentally damaging form of commercial transport and, compared with land based industry, is a comparatively minor contributor to marine pollution from human activities. </p>'],\n",
    "    \"citations\" : [\"https://www.ukri.org/news/shipping-industry-reduces-carbon-emissions-with-space-technology/\"] , \n",
    "    \"bullets\" : [\"<b>freight ship, transoceanic -> 1.384533e+07 CO2-eq kg</b>\",\"<b>maintenance, freight ship, transoceanic unit -> 422342.37143 CO2-eq kg\"]\n",
    "}\n"
   ]
  },
  {
   "cell_type": "code",
   "execution_count": 384,
   "metadata": {},
   "outputs": [],
   "source": [
    "sugar = {\n",
    "    \"text\" : [\"<p>241 kg of carbon dioxide equivalent were released to the atmosphere per a ton of sugar produced (2406 kg of carbon dioxide equivalent per a hectare of the cropped area, and 26.5 kg of carbon dioxide equivalent per a ton of sugarcane processed). The major part of the total emission (44%) resulted from residues burning; about 20% resulted from the use of synthetic fertilizers, and about 18% from fossil fuel combustion.</p>\",\"<p>The results of this study suggest that the most important reduction in greenhouse gas emissions from sugarcane areas could be achieved by switching to a green harvest system, that is, to harvesting without burning</b>\"],\n",
    "    \"citations\" : [\"de Figueiredo, E.B., Panosso, A.R., Romão, R. et al. Greenhouse gas emission associated with sugar production in southern Brazil. Carbon Balance Manage 5, 3 (2010). https://doi.org/10.1186/1750-0680-5-3\"],\n",
    "    \"bullets\" : [\"<b> sugar refinery -> 1.041739e+07 CO2-eq kg </b>\",\"<b>sugar, from sugar beet,kg -> 0.547595 CO2-eq kg </b>\"]\n",
    "}"
   ]
  },
  {
   "cell_type": "code",
   "execution_count": 386,
   "metadata": {},
   "outputs": [],
   "source": [
    "textiles = {\n",
    "    \"text\" : [\"<p>It is estimated that the fashion industry is responsible for 10% of global carbon emissions – more than international flights and maritime shipping combined.</p>\",\"<p>According to the European Environment Agency, textile purchases in the EU in 2017 generated about 654 kg of CO2 emissions per person.Since 1996, the amount of clothes bought in the EU per person has increased by 40% following a sharp fall in prices, which has reduced the life span of clothing. Europeans use nearly 26 kilos of textiles and discard about 11 kilos of them every year. Used clothes can be exported outside the EU, but are mostly (87%) incinerated or landfilled</p>\"],\n",
    "    \"citations\" : [\"https://www.europarl.europa.eu/news/en/headlines/society/20201208STO93327/the-impact-of-textile-production-and-waste-on-the-environment-infographic “The impact of textile production and waste on the environment (infographic” Created: 29-12-2020 - 08:00\"],\n",
    "    \"bullets\" : [\"<b> textile, knit cotton ,kg -> 26.298346 CO2-eq kg </b>\",\"<b> waste textile, soiled,kg -> 0.837348 CO2-eq kg </b>\"]\n",
    "}"
   ]
  },
  {
   "cell_type": "code",
   "execution_count": 387,
   "metadata": {},
   "outputs": [],
   "source": [
    "fruits = {\n",
    "    \"text\" : [\"<p>Consumption of fruit and vegetables accounts for around 2.5% of the UK’s greenhouse gas emissions. Wasted food represents a waste of the energy used and emissions produced during the course of growing, refrigerating and transporting food. Around 25% of all harvested fruits and vegetables are never consumed. Waste levels are highest in the home and in the food service sector. A reduction in food waste means a reduction in ‘unnecessary’ greenhouse gas emissions.</p>\",\"<p> The most greenhouse gas intensive stages of the fruit and vegetable supply chain are transport and refrigeration. Waste is also highly significant since food that is produced but not eaten represents a waste of the energy used in its production, processing and distribution. </p>\",\"<p>The least greenhouse gas intensive fruits and vegetables are seasonal field grown UK produce cultivated without additional heating or protection, which are not fragile or easily spoiled. Overseas grown produce which is reasonably robust, cultivated without heating or other protection and which is transported by sea or short distances by road are also fairly low in their greenhouse gas intensity. A GHG reduction strategy for fruit and vegetables is one which promotes the production and consumption of these kinds of foods. </p>\"],\n",
    "    \"citations\" : [\"https://tabledebates.org/sites/default/files/2020-10/fruitveg_paper_final_0.pdf\"],\n",
    "    \"bullets\" : [\"<b> strawberry seedling, for planting\t -> 0.033962 CO2-eq kg </b>\",\"asparagus seedling, for planting -> 0.015959 CO2-eq kg\"]\n",
    "}"
   ]
  },
  {
   "cell_type": "code",
   "execution_count": 403,
   "metadata": {},
   "outputs": [],
   "source": [
    "other = {\n",
    "    \"text\" :[],\n",
    "    \"citations\" :[],\n",
    "    \"bullets\":[]\n",
    "}"
   ]
  },
  {
   "cell_type": "code",
   "execution_count": 410,
   "metadata": {},
   "outputs": [],
   "source": [
    "land = {\n",
    "    \"text\" : [\"<p>Depends on: usage and type of refrigeration machine, standard of engine  , size of a lorry. Consider a transfer to electro-cars</p>\"],\n",
    "    \"citations\": [],\n",
    "    \"bullets\" : [\"<b>transport, freight, light commercial vehiclem , metric ton*km , -> 1.846257 CO2-eq kg </b>\",\"<b>Least one : transport, freight, lorry >32 metric ton, EURO6 1157 -> 0.080028 CO2-eq kg</b>\",\"<b>transport, freight, lorry with refrigeration machine, 3.5-7.5 ton, EURO3, carbon dioxide, liquid refrigerant, cooling 1168 -> 0.675316 CO2-eq kg </b>\"]\n",
    "}"
   ]
  },
  {
   "cell_type": "code",
   "execution_count": 399,
   "metadata": {},
   "outputs": [],
   "source": [
    "set_of_types = set()\n",
    "for company in companies_json:\n",
    "    set_of_types.add(companies_json[company][\"type\"])"
   ]
  },
  {
   "cell_type": "code",
   "execution_count": 418,
   "metadata": {},
   "outputs": [
    {
     "name": "stdout",
     "output_type": "stream",
     "text": [
      "Aluminium and aluminium products\n",
      "650\n",
      "Fabricated metal products\n",
      "1119\n",
      "Electricity\n",
      "0\n",
      "Distribution of gaseous fuels\n",
      "0\n",
      "Sugar\n",
      "647\n",
      "Dairy products\n",
      "875\n",
      "Glass and glass products\n",
      "342\n",
      "Paper and paper products\n",
      "621\n",
      "Animals' meat\n",
      "633\n",
      "Sea and coastal water transportation services\n",
      "481\n",
      "Oil seeds\n",
      "715\n",
      "Machinery and equipment\n",
      "0\n",
      "Cereal & Grains\n",
      "1132\n",
      "Other business services\n",
      "0\n",
      "Meat products\n",
      "633\n",
      "Financial intermediation services\n",
      "1137\n",
      "Other land transportation services\n",
      "134\n",
      "Textiles\n",
      "646\n",
      "Plastics, basic\n",
      "1309\n",
      "Vegetables, fruit, nuts\n",
      "1288\n",
      "1309\n"
     ]
    }
   ],
   "source": [
    "max_sum = 0\n",
    "for i in type_to_json:\n",
    "    loc_sum =0 \n",
    "    for p in type_to_json[i][\"text\"]:\n",
    "        loc_sum += len(p)\n",
    "    print(i)\n",
    "    print(loc_sum)\n",
    "    if(loc_sum>max_sum):\n",
    "        max_sum = loc_sum\n",
    "        \n",
    "print(max_sum)\n",
    "        "
   ]
  },
  {
   "cell_type": "code",
   "execution_count": 402,
   "metadata": {},
   "outputs": [
    {
     "data": {
      "text/plain": [
       "{'Aluminium and aluminium products',\n",
       " \"Animals' meat\",\n",
       " 'Cereal & Grains',\n",
       " 'Dairy products',\n",
       " 'Distribution of gaseous fuels',\n",
       " 'Electricity',\n",
       " 'Fabricated metal products',\n",
       " 'Financial intermediation services',\n",
       " 'Glass and glass products',\n",
       " 'Machinery and equipment',\n",
       " 'Meat products',\n",
       " 'Oil seeds',\n",
       " 'Other business services',\n",
       " 'Other land transportation services',\n",
       " 'Paper and paper products',\n",
       " 'Plastics, basic',\n",
       " 'Sea and coastal water transportation services',\n",
       " 'Sugar',\n",
       " 'Textiles',\n",
       " 'Vegetables, fruit, nuts'}"
      ]
     },
     "execution_count": 402,
     "metadata": {},
     "output_type": "execute_result"
    }
   ],
   "source": [
    "set_of_types"
   ]
  },
  {
   "cell_type": "code",
   "execution_count": 411,
   "metadata": {},
   "outputs": [],
   "source": [
    "type_to_json = {'Aluminium and aluminium products': al_description, 'Fabricated metal products': metal_products, 'Electricity': electr, 'Distribution of gaseous fuels': distrib, 'Sugar': sugar, 'Dairy products': dai_description, 'Glass and glass products': glass, 'Paper and paper products': paper, \"Animals' meat\": meat, 'Sea and coastal water transportation services': seas, 'Oil seeds': oil, 'Machinery and equipment': machinery, 'Cereal & Grains': cer_description, 'Other business services': other, 'Meat products': meat, 'Financial intermediation services': financial_inter, 'Other land transportation services': land, 'Textiles': textiles, 'Plastics, basic': plastics, 'Vegetables, fruit, nuts': fruits}"
   ]
  },
  {
   "cell_type": "code",
   "execution_count": 404,
   "metadata": {},
   "outputs": [
    {
     "name": "stdout",
     "output_type": "stream",
     "text": [
      "{'Aluminium and aluminium products': '', 'Fabricated metal products': '', 'Electricity': '', 'Distribution of gaseous fuels': '', 'Sugar': '', 'Dairy products': '', 'Glass and glass products': '', 'Paper and paper products': '', \"Animals' meat\": '', 'Sea and coastal water transportation services': '', 'Oil seeds': '', 'Machinery and equipment': '', 'Cereal & Grains': '', 'Other business services': '', 'Meat products': '', 'Financial intermediation services': '', 'Other land transportation services': '', 'Textiles': '', 'Plastics, basic': '', 'Vegetables, fruit, nuts': ''}\n"
     ]
    }
   ],
   "source": [
    "type_to_json = dict()\n",
    "for i in set_of_types:\n",
    "    type_to_json[i] = \"\"\n",
    "print(type_to_json)"
   ]
  },
  {
   "cell_type": "code",
   "execution_count": 412,
   "metadata": {},
   "outputs": [
    {
     "data": {
      "text/plain": [
       "{'Aluminium and aluminium products': {'text': ['<p> The result of the 29 country study yields a global average of 18.4 tonnes of CO2 equivalent emissions and 1.87 Pts per kg of primary aluminium production. In total, the aluminium industry was responsible for the emission of about 861Mtonnes of CO2eq. in 2012, both directly and indirectly. China systematically appeared as being the most important player in all categories on all levels. It produced 40% of global alumina and 46% of global primary aluminium. Doing so, according to the final results, it accounted for 56% of total CO2 equivalent emissions and 54% of global impact. It hence pollutes proportionally more than what it produces.</p>'],\n",
       "  'citations': ['<u>Dimos Paraskevas, Karel Kellens, Alexander Van de Voorde,Environmental Impact Analysis of Primary Aluminium Production at Country Level</u>'],\n",
       "  'bullets': ['<b> one aluminium hydroxide factory -> 2.479545e+07 CO2-eq kg </b>',\n",
       "   '<b> one aluminium electrolysis facility -> 2.175172e+07 CO2-eq kg']},\n",
       " 'Fabricated metal products': {'text': ['<p>Within the design processes of manufacturing facilities the most important environmental pressures are related to the use of raw materials, energy and consumables. For example, companies having an impact on the product design can significantly reduce the environmental impact per manufactured product by material and process selection, product design optimisation for manufacturing processes etc. </p>',\n",
       "   '<p>The utilities and maintenance applied in the fabricated metal products manufacturing sector (e.g. heating, cooling, compressed air) can require significant energy use. Therefore, heat recovery and smart controls can have a high potential in the reduction of energy use. In general, closed (cooling or heating) systems have a lower impact compared to open systems. Furthermore, these processes can lead to considerable noise and/or vibrations. Likewise, when waste are not segregated (e.g. metal residues from processing) it cannot be achieved recovery and recycling at high quality grades. In general, the utility department is responsible for the maintenance and effective operation of the production plant </p>'],\n",
       "  'citations': ['Best Environmental Management Practice in the Fabricated Metal Product Μanufacturing sector'],\n",
       "  'bullets': ['<b> metal working, average for copper 1kg - > 2.15708 CO2-eq kg</b>',\n",
       "   '<b>metal working, average for aluminium product of 1kg -> 3.467069 CO2-eq kg<\\x08>',\n",
       "   '1 metal coating facility -> 170854.062295 CO2-eq']},\n",
       " 'Electricity': {'text': [],\n",
       "  'citations': [],\n",
       "  'bullets': ['<b>1 hydropower plant, reservoir, non-alpine regions\\t1.182037e+10 CO2-eq kg</b>',\n",
       "   '<b>1 wind power plant, 2MW, offshore, moving parts -> 692125.802611 CO2-eq kg</b>',\n",
       "   '<b>1 geothermal power plant, 5.5MWel -> 1.391246e+08 CO2-eq kg',\n",
       "   '<b>1 hard coal power plant -> 1.193993e+08 CO2-eq kg']},\n",
       " 'Distribution of gaseous fuels': {'text': [],\n",
       "  'citations': [],\n",
       "  'bullets': ['<b>1 km of pipeline with natural gas -> 77656.270168 CO2-eq kg</b>']},\n",
       " 'Sugar': {'text': ['<p>241 kg of carbon dioxide equivalent were released to the atmosphere per a ton of sugar produced (2406 kg of carbon dioxide equivalent per a hectare of the cropped area, and 26.5 kg of carbon dioxide equivalent per a ton of sugarcane processed). The major part of the total emission (44%) resulted from residues burning; about 20% resulted from the use of synthetic fertilizers, and about 18% from fossil fuel combustion.</p>',\n",
       "   '<p>The results of this study suggest that the most important reduction in greenhouse gas emissions from sugarcane areas could be achieved by switching to a green harvest system, that is, to harvesting without burning</b>'],\n",
       "  'citations': ['de Figueiredo, E.B., Panosso, A.R., Romão, R. et al. Greenhouse gas emission associated with sugar production in southern Brazil. Carbon Balance Manage 5, 3 (2010). https://doi.org/10.1186/1750-0680-5-3'],\n",
       "  'bullets': ['<b> sugar refinery -> 1.041739e+07 CO2-eq kg </b>',\n",
       "   '<b>sugar, from sugar beet,kg -> 0.547595 CO2-eq kg </b>']},\n",
       " 'Dairy products': {'text': ['<p>The largest environmental burden for animal food products is created at the primary production stage. For dairy products in industrialised countries about 80% of GHG emissions occur before the farm gate  As a global average, the GHG emissions amount to 2.4 kg carbon dioxide equivalent (CO2e) per kg milk at farm gate (including emissions for transport and processing) There is a significant variation between regions; from approximately 1.5 kg CO2e per kg milk in Europe, North America and Oceania to 7.5 kg CO2e per kg milk in Sub-Saharan Africa. In Northern Africa, Asia and Central and South America the emissions are between roughly 2 and 5 kg CO2e per kg milk .In the industrialised world milk production is characterised by a more specialised production, while in the developing world dairy cattle is more multifunctional (e.g. cows are used as draught power). </p>'],\n",
       "  'citations': ['Flysjoe, A M. Greenhouse gas emissions in milk and dairy product chains: Improving the carbon footprint of dairy products. Denmark: N. p., 2012. Web'],\n",
       "  'bullets': ['<b>1 kg of yogurt, from cow milk - > 2.674324 CO2-eq kg</b>',\n",
       "   '<b>cream 1 kg, from cow milk -> 3.19635 CO2-eq kg </b>']},\n",
       " 'Glass and glass products': {'text': ['<p>The total final energy consumption of the glass industry in theEU25 amounted to 343.7 PJ in 2007; the fuel consumptionaccounted for about 83%. The total CO2emissions related to theglass industry in the EU25 in 2007 amounted to 26.9 milliontonnes of which 21.2 million tonnes are direct emissions (i.e.combustion and process emissions).</p>'],\n",
       "  'citations': ['Andreas Schmitz, Jacek Kamiński,Energy consumption and CO2 emissions of the European glass industry,'],\n",
       "  'bullets': ['<b>packaging glass sorting facility -> 3.123553e+06 CO2-eq kg</b>',\n",
       "   '<b>glass etching factory -> 491709.257752 CO2-eq kg </b>',\n",
       "   '<b>1 kg of flat glass, uncoated 1.086707 CO2-eq kg</b>',\n",
       "   'foam glass ,1kg - > 1.958711 CO2-eq kg']},\n",
       " 'Paper and paper products': {'text': ['<p>The IEA emissions intensity paths for the paper sector only include CO2 emissions, but, according to the United States Environmental Protection Agency (EPA), between 2013 and 2018 an average of 1.9% of the paper sector’s Scope 1 greenhouse gas emissions measured on a CO2-equivalent basis was composed of methane (CH4) and nitrous oxide (N2O) Other sources, for example from the EU, suggest that the non-CO2 emissions from paper are less than 5%, or generically call them “small” We therefore assume the US average share of non-CO2 emissions in CO2e emissions provides an approximation of the global average share.</p>'],\n",
       "  'citations': [],\n",
       "  'bullets': ['<b>waste paper, sorted, kg -> 0.061839 CO2-eq kg </b>',\n",
       "   '<b> printed paper,kg -> 2.462451 CO2-eq kg',\n",
       "   'waste paper sorting facility -> 7.612850e+06 CO2-eq kg']},\n",
       " \"Animals' meat\": {'text': ['<p>The global production of food is responsible for a third of all planet-heating gases emitted by human activity, with the use of animals for meat causing twice the pollution of producing plant-based foods, a major new study has found.</p>',\n",
       "   '<p>The entire system of food production, such as the use of farming machinery, spraying of fertilizer and transportation of products, causes 17.3bn metric tonnes of greenhouse gases a year, according to the research. This enormous release of gases that fuel the climate crisis is more than double the entire emissions of the US and represents 35% of all global emissions, researchers said.</p>'],\n",
       "  'citations': ['https://www.theguardian.com/environment/2021/sep/13/meat-greenhouses-gases-food-production-study'],\n",
       "  'bullets': ['<b>meat and bone meal,kg -> 0.0129 CO2-eq kg']},\n",
       " 'Sea and coastal water transportation services': {'text': ['<p>As world trade continues to grow, there is an increasing number of ships crossing our oceans, each using vast amounts of energy.The shipping industry is responsible for around 940 million tonnes of CO2 annually, which is at least 2.5% of the world’s total CO2 emissions.</p>',\n",
       "   '<p> Shipping is the least environmentally damaging form of commercial transport and, compared with land based industry, is a comparatively minor contributor to marine pollution from human activities. </p>'],\n",
       "  'citations': ['https://www.ukri.org/news/shipping-industry-reduces-carbon-emissions-with-space-technology/'],\n",
       "  'bullets': ['<b>freight ship, transoceanic -> 1.384533e+07 CO2-eq kg</b>',\n",
       "   '<b>maintenance, freight ship, transoceanic unit -> 422342.37143 CO2-eq kg']},\n",
       " 'Oil seeds': {'text': ['<p>Governments around the world have committed to finding ways to reduce greenhouse gas emissions. In the UK, emissions from industry remain a significant proportion of the total carbon footprint. Emissions from agriculture accounted for almost 9% of UK greenhouse gas emissions in 2010.</p>',\n",
       "   '<p>The two biggest sources of greenhouse gases from agriculture are the release of nitrous oxide from agricultural soils and methane from livestock and manures, each of which represents more than 5% of total global greenhouse gas emissions. While energy use in agriculture (for example, diesel for cultivation) is important, its contribution to greenhouse gas emissions is much lower – less than 1.5% of total emissions.</p>'],\n",
       "  'citations': ['Understanding carbon footprinting for cereals and oilseeds https://projectblue.blob.core.windows.net/media/Default/Imported%20Publication%20Docs/Understanding%20carbon%20footprinting%20for%20cereals%20and%20oilseeds.pdf'],\n",
       "  'bullets': ['<b>cottonseed oil, refined ,kg -> 1.76462 CO2-eq kg </b>',\n",
       "   '<b>vegetable oil, refined ,kg -> 3.81095 CO2-eq kg </b>']},\n",
       " 'Machinery and equipment': {'text': [], 'citations': [], 'bullets': []},\n",
       " 'Cereal & Grains': {'text': ['<p>Governments around the world have committed to finding ways to reduce greenhouse gas emissions. In the UK, emissions from industry remain a significant proportion of the total carbon footprint. Emissions from agriculture accounted for almost 9% of UK greenhouse gas emissions in 2010.</p>',\n",
       "   '<p>Globally, agriculture is a significant contributor to greenhouse gas emissions. The Intergovernmental Panel on Climate Change (IPCC) fourth assessment report1 estimates that agriculture is directly responsible for 13.5% of global greenhouse gas emissions (Figure 2), with a further 17.4% coming from land use change (mainly deforestation in the developing world to clear land to grow more food or for grazing).</p>',\n",
       "   '<p>The two biggest sources of greenhouse gases from agriculture are the release of nitrous oxide from agricultural soils and methane from livestock and manures, each of which represents more than 5% of total global greenhouse gas emissions. While energy use in agriculture (for example, diesel for cultivation) is important, its contribution to greenhouse gas emissions is much lower – less than 1.5% of total emissions.</p>'],\n",
       "  'citations': ['Understanding carbon footprinting for cereals and oilseeds https://projectblue.blob.core.windows.net/media/Default/Imported%20Publication%20Docs/Understanding%20carbon%20footprinting%20for%20cereals%20and%20oilseeds.pdf'],\n",
       "  'bullets': ['<b>1 kg of wheat grain - > 0.73059 CO2-eq kg </b>',\n",
       "   '<b>1kg of oat grain ->0.860268 CO2-eq kg</b>',\n",
       "   '<b>1 kg of barley grain ->0.753625 CO2-eq kg</b>']},\n",
       " 'Other business services': {'text': [], 'citations': [], 'bullets': []},\n",
       " 'Meat products': {'text': ['<p>The global production of food is responsible for a third of all planet-heating gases emitted by human activity, with the use of animals for meat causing twice the pollution of producing plant-based foods, a major new study has found.</p>',\n",
       "   '<p>The entire system of food production, such as the use of farming machinery, spraying of fertilizer and transportation of products, causes 17.3bn metric tonnes of greenhouse gases a year, according to the research. This enormous release of gases that fuel the climate crisis is more than double the entire emissions of the US and represents 35% of all global emissions, researchers said.</p>'],\n",
       "  'citations': ['https://www.theguardian.com/environment/2021/sep/13/meat-greenhouses-gases-food-production-study'],\n",
       "  'bullets': ['<b>meat and bone meal,kg -> 0.0129 CO2-eq kg']},\n",
       " 'Financial intermediation services': {'text': ['<p> <b>Waste</b> reduction makes good business sense because it can save your organization money through reduced purchasing and waste disposal costs. A great place to start is the office kitchen, which is often a major source of waste. Easy ways to cut waste include:</p>',\n",
       "   '<li> Using reusable coffee mugs, glasses, plates, and silverware.</li> <li>\\uf0a7\\tPurchasing compostable or high post-consumer waste content paper napkin and towel products.</li><li>\\uf0a7\\tProviding organic coffee, tea, and cocoa.</li>',\n",
       "   '<p>Twenty-seven percent of U.S. greenhouse gas emissions are from transportation sources, including emissions generated by employees traveling for office-related business and commuting to and from their jobs.Americans made an estimated 457 million one-person trips for business in 2016. Thirty-seven percent of these trips were to meetings and events. Companies of all sizes are increasingly turning to virtual meetings to find savings in time, cost, and increase productivity. You may not be able to forgo every business trip, but you can take a chunk out of your carbon footprint by opting to “meet” from the comfort of your office chair. '],\n",
       "  'citations': [],\n",
       "  'bullets': []},\n",
       " 'Other land transportation services': {'text': ['<p>Depends on: usage and type of refrigeration machine, standard of engine  , size of a lorry. Consider a transfer to electro-cars</p>'],\n",
       "  'citations': [],\n",
       "  'bullets': ['<b>transport, freight, light commercial vehiclem , metric ton*km , -> 1.846257 CO2-eq kg </b>',\n",
       "   '<b>Least one : transport, freight, lorry >32 metric ton, EURO6 1157 -> 0.080028 CO2-eq kg</b>',\n",
       "   '<b>transport, freight, lorry with refrigeration machine, 3.5-7.5 ton, EURO3, carbon dioxide, liquid refrigerant, cooling 1168 -> 0.675316 CO2-eq kg </b>']},\n",
       " 'Textiles': {'text': ['<p>It is estimated that the fashion industry is responsible for 10% of global carbon emissions – more than international flights and maritime shipping combined.</p>',\n",
       "   '<p>According to the European Environment Agency, textile purchases in the EU in 2017 generated about 654 kg of CO2 emissions per person.Since 1996, the amount of clothes bought in the EU per person has increased by 40% following a sharp fall in prices, which has reduced the life span of clothing. Europeans use nearly 26 kilos of textiles and discard about 11 kilos of them every year. Used clothes can be exported outside the EU, but are mostly (87%) incinerated or landfilled</p>'],\n",
       "  'citations': ['https://www.europarl.europa.eu/news/en/headlines/society/20201208STO93327/the-impact-of-textile-production-and-waste-on-the-environment-infographic “The impact of textile production and waste on the environment (infographic” Created: 29-12-2020 - 08:00'],\n",
       "  'bullets': ['<b> textile, knit cotton ,kg -> 26.298346 CO2-eq kg </b>',\n",
       "   '<b> waste textile, soiled,kg -> 0.837348 CO2-eq kg </b>']},\n",
       " 'Plastics, basic': {'text': ['<p>Plastic refining is among the most greenhouse- gas-intensive industries in the manufacturing sector—and the fastest growing. The manufacture of plastic is both energy intense and emissions intensive in its own right, producing significant emissions through the cracking of alkanes into olefins, the polymerization and plasticization of olefins into plastic resins, and other chemical refining processes. in 2015, 24 ethylene facilities in the uS produced 17.5 million metric tons of CO2e, emitting as much CO2 as 3.8 million passenger vehicles. globally in 2015, emissions from cracking to produce ethylene were 184.3–213.0 million metric tons of CO2e, as much as 45 million passenger vehicles driven for one year</p>',\n",
       "   '<p>The plastic and petrochemical industries’ plans to expand plastic production threaten to exacerbate plastic’s climate impacts and could make limiting global temperature rise to 1.5°C impossible. if the production, disposal, and incineration of plastic continue on their present growth trajectory, by 2030, these global emissions could reach 1.34 gigatons per year—equivalent to more than 295 five-hundred-megawatt coal plants. By 2050, plastic production and incineration could emit 2.8 gigatons of CO2 per year, releasing as much emissions as 615 five-hundred-megawatt coal plants.</p>'],\n",
       "  'citations': ['“Center for International Environmental Law https://www.ciel.org/project-update/plastic-climate-the-hidden-costs-of-a-plastic-planet/”'],\n",
       "  'bullets': ['<b>waste plastic, industrial electronics ,kg -> 2.408164 CO2-eq kg </b>',\n",
       "   '<b>waste plastic plaster ,kg -> 0.012531 CO2-eq kg </b>']},\n",
       " 'Vegetables, fruit, nuts': {'text': ['<p>Consumption of fruit and vegetables accounts for around 2.5% of the UK’s greenhouse gas emissions. Wasted food represents a waste of the energy used and emissions produced during the course of growing, refrigerating and transporting food. Around 25% of all harvested fruits and vegetables are never consumed. Waste levels are highest in the home and in the food service sector. A reduction in food waste means a reduction in ‘unnecessary’ greenhouse gas emissions.</p>',\n",
       "   '<p> The most greenhouse gas intensive stages of the fruit and vegetable supply chain are transport and refrigeration. Waste is also highly significant since food that is produced but not eaten represents a waste of the energy used in its production, processing and distribution. </p>',\n",
       "   '<p>The least greenhouse gas intensive fruits and vegetables are seasonal field grown UK produce cultivated without additional heating or protection, which are not fragile or easily spoiled. Overseas grown produce which is reasonably robust, cultivated without heating or other protection and which is transported by sea or short distances by road are also fairly low in their greenhouse gas intensity. A GHG reduction strategy for fruit and vegetables is one which promotes the production and consumption of these kinds of foods. </p>'],\n",
       "  'citations': ['https://tabledebates.org/sites/default/files/2020-10/fruitveg_paper_final_0.pdf'],\n",
       "  'bullets': ['<b> strawberry seedling, for planting\\t -> 0.033962 CO2-eq kg </b>',\n",
       "   'asparagus seedling, for planting -> 0.015959 CO2-eq kg']}}"
      ]
     },
     "execution_count": 412,
     "metadata": {},
     "output_type": "execute_result"
    }
   ],
   "source": [
    "type_to_json"
   ]
  },
  {
   "cell_type": "code",
   "execution_count": 413,
   "metadata": {},
   "outputs": [],
   "source": [
    "with open('types_to_json.json', 'w') as fp:\n",
    "    json.dump(type_to_json, fp)"
   ]
  },
  {
   "cell_type": "code",
   "execution_count": null,
   "metadata": {},
   "outputs": [],
   "source": []
  }
 ],
 "metadata": {
  "kernelspec": {
   "display_name": "Python 3",
   "language": "python",
   "name": "python3"
  },
  "language_info": {
   "codemirror_mode": {
    "name": "ipython",
    "version": 3
   },
   "file_extension": ".py",
   "mimetype": "text/x-python",
   "name": "python",
   "nbconvert_exporter": "python",
   "pygments_lexer": "ipython3",
   "version": "3.7.4"
  }
 },
 "nbformat": 4,
 "nbformat_minor": 2
}
